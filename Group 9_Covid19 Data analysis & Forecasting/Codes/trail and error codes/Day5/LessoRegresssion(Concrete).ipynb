{
 "cells": [
  {
   "cell_type": "code",
   "execution_count": 1,
   "id": "75b53387",
   "metadata": {},
   "outputs": [],
   "source": [
    "from sklearn.pipeline import Pipeline\n",
    "from sklearn.preprocessing import PolynomialFeatures\n",
    "import pandas as pd\n",
    "import numpy as np\n",
    "import os\n",
    "from sklearn.linear_model import LinearRegression\n",
    "from sklearn.metrics import mean_squared_error, r2_score\n",
    "from sklearn.model_selection import KFold,cross_val_score\n",
    "from sklearn.model_selection import train_test_split\n",
    "from sklearn.model_selection import KFold\n",
    "from sklearn.model_selection import GridSearchCV\n",
    "from sklearn.model_selection import cross_val_score\n",
    "os.chdir('C:/Users/dbda/Desktop/ML/Datasets')"
   ]
  },
  {
   "cell_type": "code",
   "execution_count": 2,
   "id": "45aab600",
   "metadata": {},
   "outputs": [],
   "source": [
    "from sklearn.linear_model import Lasso"
   ]
  },
  {
   "cell_type": "code",
   "execution_count": 3,
   "id": "17974108",
   "metadata": {},
   "outputs": [],
   "source": [
    "concrete = pd.read_csv('Concrete_Data.csv')\n",
    "x = concrete .drop('Strength', axis = 1)\n",
    "y = concrete ['Strength']"
   ]
  },
  {
   "cell_type": "code",
   "execution_count": 4,
   "id": "d6eb5ccb",
   "metadata": {},
   "outputs": [],
   "source": [
    "lasso=Lasso()"
   ]
  },
  {
   "cell_type": "markdown",
   "id": "fd858143",
   "metadata": {},
   "source": [
    "### Grid Search"
   ]
  },
  {
   "cell_type": "code",
   "execution_count": 5,
   "id": "8c3e0e24",
   "metadata": {},
   "outputs": [],
   "source": [
    "params = {'alpha': np.linspace(0.001, 10,20)}\n",
    "kfold = KFold(n_splits = 5, shuffle = True, random_state = 23)"
   ]
  },
  {
   "cell_type": "code",
   "execution_count": 6,
   "id": "e89f4329",
   "metadata": {},
   "outputs": [
    {
     "name": "stdout",
     "output_type": "stream",
     "text": [
      "GCV best score:  0.6003621442713118\n",
      "GCV best parameters:  {'alpha': 0.001}\n"
     ]
    }
   ],
   "source": [
    "gcv = GridSearchCV(lasso, cv = kfold, param_grid = params)\n",
    "gcv.fit(x,y)\n",
    "print('GCV best score: ', gcv.best_score_)\n",
    "print('GCV best parameters: ', gcv.best_params_)"
   ]
  },
  {
   "cell_type": "markdown",
   "id": "5a2e3f2b",
   "metadata": {},
   "source": [
    "### Ridge"
   ]
  },
  {
   "cell_type": "code",
   "execution_count": 7,
   "id": "98f9390f",
   "metadata": {},
   "outputs": [],
   "source": [
    "from sklearn.linear_model import Ridge"
   ]
  },
  {
   "cell_type": "code",
   "execution_count": 8,
   "id": "ecf02de3",
   "metadata": {},
   "outputs": [],
   "source": [
    "ridge=Ridge()"
   ]
  },
  {
   "cell_type": "code",
   "execution_count": 9,
   "id": "c6d13111",
   "metadata": {},
   "outputs": [],
   "source": [
    "params = {'alpha': np.linspace(0.001, 10,20)}\n",
    "kfold = KFold(n_splits = 5, shuffle = True, random_state = 23)"
   ]
  },
  {
   "cell_type": "code",
   "execution_count": 10,
   "id": "881a2bca",
   "metadata": {},
   "outputs": [
    {
     "name": "stdout",
     "output_type": "stream",
     "text": [
      "GCV best score:  0.600363866130156\n",
      "GCV best parameters:  {'alpha': 10.0}\n"
     ]
    }
   ],
   "source": [
    "gcv = GridSearchCV(ridge, cv = kfold, param_grid = params)\n",
    "gcv.fit(x,y)\n",
    "print('GCV best score: ', gcv.best_score_)\n",
    "print('GCV best parameters: ', gcv.best_params_)"
   ]
  },
  {
   "cell_type": "code",
   "execution_count": null,
   "id": "194c5bac",
   "metadata": {},
   "outputs": [],
   "source": []
  }
 ],
 "metadata": {
  "kernelspec": {
   "display_name": "Python 3 (ipykernel)",
   "language": "python",
   "name": "python3"
  },
  "language_info": {
   "codemirror_mode": {
    "name": "ipython",
    "version": 3
   },
   "file_extension": ".py",
   "mimetype": "text/x-python",
   "name": "python",
   "nbconvert_exporter": "python",
   "pygments_lexer": "ipython3",
   "version": "3.11.5"
  }
 },
 "nbformat": 4,
 "nbformat_minor": 5
}

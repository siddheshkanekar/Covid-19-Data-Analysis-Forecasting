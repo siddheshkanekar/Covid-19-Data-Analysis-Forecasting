{
 "cells": [
  {
   "cell_type": "code",
   "execution_count": 1,
   "id": "23882cf4",
   "metadata": {},
   "outputs": [],
   "source": [
    "from sklearn.pipeline import Pipeline\n",
    "from sklearn.preprocessing import PolynomialFeatures\n",
    "import pandas as pd\n",
    "import numpy as np\n",
    "import os\n",
    "from sklearn.linear_model import LinearRegression\n",
    "from sklearn.metrics import mean_squared_error, r2_score\n",
    "from sklearn.model_selection import KFold,cross_val_score\n",
    "from sklearn.model_selection import train_test_split\n",
    "from sklearn.model_selection import KFold\n",
    "from sklearn.model_selection import GridSearchCV\n",
    "from sklearn.model_selection import cross_val_score\n",
    "os.chdir('C:/Users/dbda/Desktop/ML/Datasets')"
   ]
  },
  {
   "cell_type": "code",
   "execution_count": 2,
   "id": "a3eee967",
   "metadata": {},
   "outputs": [],
   "source": [
    "from sklearn.linear_model import Lasso\n",
    "lasso=Lasso()"
   ]
  },
  {
   "cell_type": "code",
   "execution_count": 3,
   "id": "e7183500",
   "metadata": {},
   "outputs": [],
   "source": [
    "concrete = pd.read_csv('Concrete_Data.csv')\n",
    "x = concrete .drop('Strength', axis = 1)\n",
    "y = concrete ['Strength']"
   ]
  },
  {
   "cell_type": "code",
   "execution_count": 4,
   "id": "cda4c437",
   "metadata": {},
   "outputs": [],
   "source": [
    "params = {'alpha': np.linspace(0.001, 10,20)}\n",
    "kfold = KFold(n_splits = 5, shuffle = True, random_state = 23)"
   ]
  },
  {
   "cell_type": "code",
   "execution_count": 5,
   "id": "0544a2dd",
   "metadata": {},
   "outputs": [
    {
     "name": "stdout",
     "output_type": "stream",
     "text": [
      "GCV best score:  0.6003621442713118\n",
      "GCV best parameters:  {'alpha': 0.001}\n"
     ]
    }
   ],
   "source": [
    "gcv = GridSearchCV(lasso, cv = kfold, param_grid = params)\n",
    "gcv.fit(x,y)\n",
    "print('GCV best score: ', gcv.best_score_)\n",
    "print('GCV best parameters: ', gcv.best_params_)"
   ]
  },
  {
   "cell_type": "markdown",
   "id": "6b442aef",
   "metadata": {},
   "source": [
    "### Best Estimator"
   ]
  },
  {
   "cell_type": "code",
   "execution_count": 6,
   "id": "8c79fcf7",
   "metadata": {},
   "outputs": [
    {
     "name": "stdout",
     "output_type": "stream",
     "text": [
      "[ 0.11980284  0.10386387  0.08793329 -0.14993609  0.29215718  0.01808243\n",
      "  0.02018753  0.1142216 ]\n"
     ]
    }
   ],
   "source": [
    "best_m=gcv.best_estimator_\n",
    "print(best_m.coef_)"
   ]
  },
  {
   "cell_type": "code",
   "execution_count": 7,
   "id": "e72af347",
   "metadata": {},
   "outputs": [],
   "source": [
    "test_df=pd.read_csv(r\"C:\\Users\\dbda\\Desktop\\ML\\Cases\\Concrete Strength\\testConcrete.csv\")"
   ]
  },
  {
   "cell_type": "code",
   "execution_count": 8,
   "id": "1a5b63b4",
   "metadata": {},
   "outputs": [
    {
     "data": {
      "text/plain": [
       "array([68.73746243, 31.79008383, 19.49411398, 46.85099828, 58.04230926,\n",
       "       16.09500148, 50.35397155, 80.31070596, 31.13524312, 41.56861521,\n",
       "       43.44398337, 60.77099675, 52.37229437, 15.38766485])"
      ]
     },
     "execution_count": 8,
     "metadata": {},
     "output_type": "execute_result"
    }
   ],
   "source": [
    "best_m.predict(test_df)"
   ]
  },
  {
   "cell_type": "code",
   "execution_count": null,
   "id": "3669c0da",
   "metadata": {},
   "outputs": [],
   "source": []
  }
 ],
 "metadata": {
  "kernelspec": {
   "display_name": "Python 3 (ipykernel)",
   "language": "python",
   "name": "python3"
  },
  "language_info": {
   "codemirror_mode": {
    "name": "ipython",
    "version": 3
   },
   "file_extension": ".py",
   "mimetype": "text/x-python",
   "name": "python",
   "nbconvert_exporter": "python",
   "pygments_lexer": "ipython3",
   "version": "3.11.5"
  }
 },
 "nbformat": 4,
 "nbformat_minor": 5
}

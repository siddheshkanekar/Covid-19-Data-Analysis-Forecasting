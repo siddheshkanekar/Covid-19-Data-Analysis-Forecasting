{
 "cells": [
  {
   "cell_type": "code",
   "execution_count": 1,
   "id": "78b9bf69",
   "metadata": {},
   "outputs": [],
   "source": [
    "from sklearn.pipeline import Pipeline\n",
    "from sklearn.preprocessing import PolynomialFeatures\n",
    "import pandas as pd\n",
    "import numpy as np\n",
    "import os\n",
    "from sklearn.linear_model import LinearRegression\n",
    "from sklearn.metrics import mean_squared_error, r2_score\n",
    "from sklearn.model_selection import KFold,cross_val_score\n",
    "from sklearn.model_selection import train_test_split\n",
    "from sklearn.model_selection import KFold\n",
    "from sklearn.model_selection import GridSearchCV\n",
    "from sklearn.model_selection import cross_val_score\n",
    "os.chdir(r'C:\\Users\\dbda\\Desktop\\ML\\Cases\\Real Estate')"
   ]
  },
  {
   "cell_type": "code",
   "execution_count": 2,
   "id": "d66dea07",
   "metadata": {},
   "outputs": [],
   "source": [
    "housing=pd.read_csv(\"Housing.csv\")"
   ]
  },
  {
   "cell_type": "code",
   "execution_count": 3,
   "id": "c48eac58",
   "metadata": {},
   "outputs": [],
   "source": [
    "dum_housing = pd.get_dummies(housing, drop_first = True)"
   ]
  },
  {
   "cell_type": "code",
   "execution_count": 4,
   "id": "91bf93a4",
   "metadata": {},
   "outputs": [],
   "source": [
    "X = dum_housing.drop('price', axis = 1)\n",
    "y = dum_housing['price']"
   ]
  },
  {
   "cell_type": "markdown",
   "id": "784c6ea4",
   "metadata": {},
   "source": [
    "### Ridge"
   ]
  },
  {
   "cell_type": "code",
   "execution_count": 5,
   "id": "7430ae86",
   "metadata": {},
   "outputs": [],
   "source": [
    "from sklearn.linear_model import Ridge"
   ]
  },
  {
   "cell_type": "code",
   "execution_count": 6,
   "id": "70196754",
   "metadata": {},
   "outputs": [],
   "source": [
    "ridge=Ridge()"
   ]
  },
  {
   "cell_type": "code",
   "execution_count": 7,
   "id": "5004630c",
   "metadata": {},
   "outputs": [
    {
     "name": "stdout",
     "output_type": "stream",
     "text": [
      "GCV best score:  0.6504158844201877\n",
      "GCV best parameters:  {'alpha': 5.263631578947369}\n"
     ]
    }
   ],
   "source": [
    "params = {'alpha': np.linspace(0.001, 10,20)}\n",
    "kfold = KFold(n_splits = 5, shuffle = True, random_state = 23)\n",
    "gcv_rg= GridSearchCV(ridge, cv = kfold, param_grid = params)\n",
    "gcv_rg.fit(X,y)\n",
    "print('GCV best score: ', gcv_rg.best_score_)\n",
    "print('GCV best parameters: ', gcv_rg.best_params_)"
   ]
  },
  {
   "cell_type": "markdown",
   "id": "c577d60b",
   "metadata": {},
   "source": [
    "### Lasso"
   ]
  },
  {
   "cell_type": "code",
   "execution_count": 8,
   "id": "a45de6ba",
   "metadata": {},
   "outputs": [],
   "source": [
    "from sklearn.linear_model import Lasso"
   ]
  },
  {
   "cell_type": "code",
   "execution_count": 9,
   "id": "5cf4428d",
   "metadata": {},
   "outputs": [],
   "source": [
    "lasso=Lasso()"
   ]
  },
  {
   "cell_type": "code",
   "execution_count": 10,
   "id": "3d43d4d5",
   "metadata": {},
   "outputs": [],
   "source": [
    "params = {'alpha': np.linspace(0.001, 10,20)}\n",
    "kfold = KFold(n_splits = 5, shuffle = True, random_state = 23)"
   ]
  },
  {
   "cell_type": "code",
   "execution_count": 11,
   "id": "952319fd",
   "metadata": {},
   "outputs": [
    {
     "name": "stdout",
     "output_type": "stream",
     "text": [
      "GCV best score:  0.6494122887917475\n",
      "GCV best parameters:  {'alpha': 2.1060526315789474}\n"
     ]
    }
   ],
   "source": [
    "gcv = GridSearchCV(lasso, cv = kfold, param_grid = params)\n",
    "gcv.fit(X,y)\n",
    "print('GCV best score: ', gcv.best_score_)\n",
    "print('GCV best parameters: ', gcv.best_params_)"
   ]
  },
  {
   "cell_type": "markdown",
   "id": "bdeef4be",
   "metadata": {},
   "source": [
    "### ElasticNet"
   ]
  },
  {
   "cell_type": "code",
   "execution_count": 12,
   "id": "0f0f0fdd",
   "metadata": {},
   "outputs": [],
   "source": [
    "from sklearn.linear_model import ElasticNet"
   ]
  },
  {
   "cell_type": "code",
   "execution_count": 13,
   "id": "d1d72ba8",
   "metadata": {},
   "outputs": [],
   "source": [
    "elastic=ElasticNet()"
   ]
  },
  {
   "cell_type": "code",
   "execution_count": 14,
   "id": "a3f4d3cb",
   "metadata": {},
   "outputs": [],
   "source": [
    "params = {'alpha': np.linspace(0.001, 5,20),\n",
    "         'l1_ratio':np.linspace(0.001, 1,10)}\n",
    "kfold = KFold(n_splits = 5, shuffle = True, random_state = 23)"
   ]
  },
  {
   "cell_type": "code",
   "execution_count": 15,
   "id": "7d324be3",
   "metadata": {},
   "outputs": [
    {
     "data": {
      "text/html": [
       "<style>#sk-container-id-1 {color: black;background-color: white;}#sk-container-id-1 pre{padding: 0;}#sk-container-id-1 div.sk-toggleable {background-color: white;}#sk-container-id-1 label.sk-toggleable__label {cursor: pointer;display: block;width: 100%;margin-bottom: 0;padding: 0.3em;box-sizing: border-box;text-align: center;}#sk-container-id-1 label.sk-toggleable__label-arrow:before {content: \"▸\";float: left;margin-right: 0.25em;color: #696969;}#sk-container-id-1 label.sk-toggleable__label-arrow:hover:before {color: black;}#sk-container-id-1 div.sk-estimator:hover label.sk-toggleable__label-arrow:before {color: black;}#sk-container-id-1 div.sk-toggleable__content {max-height: 0;max-width: 0;overflow: hidden;text-align: left;background-color: #f0f8ff;}#sk-container-id-1 div.sk-toggleable__content pre {margin: 0.2em;color: black;border-radius: 0.25em;background-color: #f0f8ff;}#sk-container-id-1 input.sk-toggleable__control:checked~div.sk-toggleable__content {max-height: 200px;max-width: 100%;overflow: auto;}#sk-container-id-1 input.sk-toggleable__control:checked~label.sk-toggleable__label-arrow:before {content: \"▾\";}#sk-container-id-1 div.sk-estimator input.sk-toggleable__control:checked~label.sk-toggleable__label {background-color: #d4ebff;}#sk-container-id-1 div.sk-label input.sk-toggleable__control:checked~label.sk-toggleable__label {background-color: #d4ebff;}#sk-container-id-1 input.sk-hidden--visually {border: 0;clip: rect(1px 1px 1px 1px);clip: rect(1px, 1px, 1px, 1px);height: 1px;margin: -1px;overflow: hidden;padding: 0;position: absolute;width: 1px;}#sk-container-id-1 div.sk-estimator {font-family: monospace;background-color: #f0f8ff;border: 1px dotted black;border-radius: 0.25em;box-sizing: border-box;margin-bottom: 0.5em;}#sk-container-id-1 div.sk-estimator:hover {background-color: #d4ebff;}#sk-container-id-1 div.sk-parallel-item::after {content: \"\";width: 100%;border-bottom: 1px solid gray;flex-grow: 1;}#sk-container-id-1 div.sk-label:hover label.sk-toggleable__label {background-color: #d4ebff;}#sk-container-id-1 div.sk-serial::before {content: \"\";position: absolute;border-left: 1px solid gray;box-sizing: border-box;top: 0;bottom: 0;left: 50%;z-index: 0;}#sk-container-id-1 div.sk-serial {display: flex;flex-direction: column;align-items: center;background-color: white;padding-right: 0.2em;padding-left: 0.2em;position: relative;}#sk-container-id-1 div.sk-item {position: relative;z-index: 1;}#sk-container-id-1 div.sk-parallel {display: flex;align-items: stretch;justify-content: center;background-color: white;position: relative;}#sk-container-id-1 div.sk-item::before, #sk-container-id-1 div.sk-parallel-item::before {content: \"\";position: absolute;border-left: 1px solid gray;box-sizing: border-box;top: 0;bottom: 0;left: 50%;z-index: -1;}#sk-container-id-1 div.sk-parallel-item {display: flex;flex-direction: column;z-index: 1;position: relative;background-color: white;}#sk-container-id-1 div.sk-parallel-item:first-child::after {align-self: flex-end;width: 50%;}#sk-container-id-1 div.sk-parallel-item:last-child::after {align-self: flex-start;width: 50%;}#sk-container-id-1 div.sk-parallel-item:only-child::after {width: 0;}#sk-container-id-1 div.sk-dashed-wrapped {border: 1px dashed gray;margin: 0 0.4em 0.5em 0.4em;box-sizing: border-box;padding-bottom: 0.4em;background-color: white;}#sk-container-id-1 div.sk-label label {font-family: monospace;font-weight: bold;display: inline-block;line-height: 1.2em;}#sk-container-id-1 div.sk-label-container {text-align: center;}#sk-container-id-1 div.sk-container {/* jupyter's `normalize.less` sets `[hidden] { display: none; }` but bootstrap.min.css set `[hidden] { display: none !important; }` so we also need the `!important` here to be able to override the default hidden behavior on the sphinx rendered scikit-learn.org. See: https://github.com/scikit-learn/scikit-learn/issues/21755 */display: inline-block !important;position: relative;}#sk-container-id-1 div.sk-text-repr-fallback {display: none;}</style><div id=\"sk-container-id-1\" class=\"sk-top-container\"><div class=\"sk-text-repr-fallback\"><pre>GridSearchCV(cv=KFold(n_splits=5, random_state=23, shuffle=True),\n",
       "             estimator=ElasticNet(),\n",
       "             param_grid={&#x27;alpha&#x27;: array([1.00000000e-03, 2.64105263e-01, 5.27210526e-01, 7.90315789e-01,\n",
       "       1.05342105e+00, 1.31652632e+00, 1.57963158e+00, 1.84273684e+00,\n",
       "       2.10584211e+00, 2.36894737e+00, 2.63205263e+00, 2.89515789e+00,\n",
       "       3.15826316e+00, 3.42136842e+00, 3.68447368e+00, 3.94757895e+00,\n",
       "       4.21068421e+00, 4.47378947e+00, 4.73689474e+00, 5.00000000e+00]),\n",
       "                         &#x27;l1_ratio&#x27;: array([0.001, 0.112, 0.223, 0.334, 0.445, 0.556, 0.667, 0.778, 0.889,\n",
       "       1.   ])})</pre><b>In a Jupyter environment, please rerun this cell to show the HTML representation or trust the notebook. <br />On GitHub, the HTML representation is unable to render, please try loading this page with nbviewer.org.</b></div><div class=\"sk-container\" hidden><div class=\"sk-item sk-dashed-wrapped\"><div class=\"sk-label-container\"><div class=\"sk-label sk-toggleable\"><input class=\"sk-toggleable__control sk-hidden--visually\" id=\"sk-estimator-id-1\" type=\"checkbox\" ><label for=\"sk-estimator-id-1\" class=\"sk-toggleable__label sk-toggleable__label-arrow\">GridSearchCV</label><div class=\"sk-toggleable__content\"><pre>GridSearchCV(cv=KFold(n_splits=5, random_state=23, shuffle=True),\n",
       "             estimator=ElasticNet(),\n",
       "             param_grid={&#x27;alpha&#x27;: array([1.00000000e-03, 2.64105263e-01, 5.27210526e-01, 7.90315789e-01,\n",
       "       1.05342105e+00, 1.31652632e+00, 1.57963158e+00, 1.84273684e+00,\n",
       "       2.10584211e+00, 2.36894737e+00, 2.63205263e+00, 2.89515789e+00,\n",
       "       3.15826316e+00, 3.42136842e+00, 3.68447368e+00, 3.94757895e+00,\n",
       "       4.21068421e+00, 4.47378947e+00, 4.73689474e+00, 5.00000000e+00]),\n",
       "                         &#x27;l1_ratio&#x27;: array([0.001, 0.112, 0.223, 0.334, 0.445, 0.556, 0.667, 0.778, 0.889,\n",
       "       1.   ])})</pre></div></div></div><div class=\"sk-parallel\"><div class=\"sk-parallel-item\"><div class=\"sk-item\"><div class=\"sk-label-container\"><div class=\"sk-label sk-toggleable\"><input class=\"sk-toggleable__control sk-hidden--visually\" id=\"sk-estimator-id-2\" type=\"checkbox\" ><label for=\"sk-estimator-id-2\" class=\"sk-toggleable__label sk-toggleable__label-arrow\">estimator: ElasticNet</label><div class=\"sk-toggleable__content\"><pre>ElasticNet()</pre></div></div></div><div class=\"sk-serial\"><div class=\"sk-item\"><div class=\"sk-estimator sk-toggleable\"><input class=\"sk-toggleable__control sk-hidden--visually\" id=\"sk-estimator-id-3\" type=\"checkbox\" ><label for=\"sk-estimator-id-3\" class=\"sk-toggleable__label sk-toggleable__label-arrow\">ElasticNet</label><div class=\"sk-toggleable__content\"><pre>ElasticNet()</pre></div></div></div></div></div></div></div></div></div></div>"
      ],
      "text/plain": [
       "GridSearchCV(cv=KFold(n_splits=5, random_state=23, shuffle=True),\n",
       "             estimator=ElasticNet(),\n",
       "             param_grid={'alpha': array([1.00000000e-03, 2.64105263e-01, 5.27210526e-01, 7.90315789e-01,\n",
       "       1.05342105e+00, 1.31652632e+00, 1.57963158e+00, 1.84273684e+00,\n",
       "       2.10584211e+00, 2.36894737e+00, 2.63205263e+00, 2.89515789e+00,\n",
       "       3.15826316e+00, 3.42136842e+00, 3.68447368e+00, 3.94757895e+00,\n",
       "       4.21068421e+00, 4.47378947e+00, 4.73689474e+00, 5.00000000e+00]),\n",
       "                         'l1_ratio': array([0.001, 0.112, 0.223, 0.334, 0.445, 0.556, 0.667, 0.778, 0.889,\n",
       "       1.   ])})"
      ]
     },
     "execution_count": 15,
     "metadata": {},
     "output_type": "execute_result"
    }
   ],
   "source": [
    "gcv = GridSearchCV(elastic, cv = kfold, param_grid = params)\n",
    "gcv.fit(X,y)"
   ]
  },
  {
   "cell_type": "code",
   "execution_count": 16,
   "id": "e547334f",
   "metadata": {},
   "outputs": [
    {
     "data": {
      "text/html": [
       "<div>\n",
       "<style scoped>\n",
       "    .dataframe tbody tr th:only-of-type {\n",
       "        vertical-align: middle;\n",
       "    }\n",
       "\n",
       "    .dataframe tbody tr th {\n",
       "        vertical-align: top;\n",
       "    }\n",
       "\n",
       "    .dataframe thead th {\n",
       "        text-align: right;\n",
       "    }\n",
       "</style>\n",
       "<table border=\"1\" class=\"dataframe\">\n",
       "  <thead>\n",
       "    <tr style=\"text-align: right;\">\n",
       "      <th></th>\n",
       "      <th>mean_fit_time</th>\n",
       "      <th>std_fit_time</th>\n",
       "      <th>mean_score_time</th>\n",
       "      <th>std_score_time</th>\n",
       "      <th>param_alpha</th>\n",
       "      <th>param_l1_ratio</th>\n",
       "      <th>params</th>\n",
       "      <th>split0_test_score</th>\n",
       "      <th>split1_test_score</th>\n",
       "      <th>split2_test_score</th>\n",
       "      <th>split3_test_score</th>\n",
       "      <th>split4_test_score</th>\n",
       "      <th>mean_test_score</th>\n",
       "      <th>std_test_score</th>\n",
       "      <th>rank_test_score</th>\n",
       "    </tr>\n",
       "  </thead>\n",
       "  <tbody>\n",
       "    <tr>\n",
       "      <th>0</th>\n",
       "      <td>0.002811</td>\n",
       "      <td>0.005622</td>\n",
       "      <td>0.000377</td>\n",
       "      <td>0.000755</td>\n",
       "      <td>0.001</td>\n",
       "      <td>0.001</td>\n",
       "      <td>{'alpha': 0.001, 'l1_ratio': 0.001}</td>\n",
       "      <td>0.683923</td>\n",
       "      <td>0.634146</td>\n",
       "      <td>0.693301</td>\n",
       "      <td>0.653260</td>\n",
       "      <td>0.583349</td>\n",
       "      <td>0.649596</td>\n",
       "      <td>0.039317</td>\n",
       "      <td>1</td>\n",
       "    </tr>\n",
       "    <tr>\n",
       "      <th>1</th>\n",
       "      <td>0.000163</td>\n",
       "      <td>0.000327</td>\n",
       "      <td>0.002972</td>\n",
       "      <td>0.005943</td>\n",
       "      <td>0.001</td>\n",
       "      <td>0.112</td>\n",
       "      <td>{'alpha': 0.001, 'l1_ratio': 0.112}</td>\n",
       "      <td>0.683843</td>\n",
       "      <td>0.634046</td>\n",
       "      <td>0.693318</td>\n",
       "      <td>0.653313</td>\n",
       "      <td>0.583363</td>\n",
       "      <td>0.649577</td>\n",
       "      <td>0.039312</td>\n",
       "      <td>2</td>\n",
       "    </tr>\n",
       "    <tr>\n",
       "      <th>2</th>\n",
       "      <td>0.003183</td>\n",
       "      <td>0.006366</td>\n",
       "      <td>0.000142</td>\n",
       "      <td>0.000284</td>\n",
       "      <td>0.001</td>\n",
       "      <td>0.223</td>\n",
       "      <td>{'alpha': 0.001, 'l1_ratio': 0.223}</td>\n",
       "      <td>0.683763</td>\n",
       "      <td>0.633945</td>\n",
       "      <td>0.693336</td>\n",
       "      <td>0.653367</td>\n",
       "      <td>0.583377</td>\n",
       "      <td>0.649557</td>\n",
       "      <td>0.039306</td>\n",
       "      <td>3</td>\n",
       "    </tr>\n",
       "    <tr>\n",
       "      <th>3</th>\n",
       "      <td>0.000356</td>\n",
       "      <td>0.000713</td>\n",
       "      <td>0.003003</td>\n",
       "      <td>0.006005</td>\n",
       "      <td>0.001</td>\n",
       "      <td>0.334</td>\n",
       "      <td>{'alpha': 0.001, 'l1_ratio': 0.334}</td>\n",
       "      <td>0.683681</td>\n",
       "      <td>0.633843</td>\n",
       "      <td>0.693352</td>\n",
       "      <td>0.653420</td>\n",
       "      <td>0.583390</td>\n",
       "      <td>0.649537</td>\n",
       "      <td>0.039300</td>\n",
       "      <td>4</td>\n",
       "    </tr>\n",
       "    <tr>\n",
       "      <th>4</th>\n",
       "      <td>0.003337</td>\n",
       "      <td>0.006674</td>\n",
       "      <td>0.002997</td>\n",
       "      <td>0.005995</td>\n",
       "      <td>0.001</td>\n",
       "      <td>0.445</td>\n",
       "      <td>{'alpha': 0.001, 'l1_ratio': 0.445}</td>\n",
       "      <td>0.683599</td>\n",
       "      <td>0.633740</td>\n",
       "      <td>0.693369</td>\n",
       "      <td>0.653474</td>\n",
       "      <td>0.583404</td>\n",
       "      <td>0.649517</td>\n",
       "      <td>0.039294</td>\n",
       "      <td>5</td>\n",
       "    </tr>\n",
       "    <tr>\n",
       "      <th>...</th>\n",
       "      <td>...</td>\n",
       "      <td>...</td>\n",
       "      <td>...</td>\n",
       "      <td>...</td>\n",
       "      <td>...</td>\n",
       "      <td>...</td>\n",
       "      <td>...</td>\n",
       "      <td>...</td>\n",
       "      <td>...</td>\n",
       "      <td>...</td>\n",
       "      <td>...</td>\n",
       "      <td>...</td>\n",
       "      <td>...</td>\n",
       "      <td>...</td>\n",
       "      <td>...</td>\n",
       "    </tr>\n",
       "    <tr>\n",
       "      <th>195</th>\n",
       "      <td>0.003124</td>\n",
       "      <td>0.006248</td>\n",
       "      <td>0.003125</td>\n",
       "      <td>0.006250</td>\n",
       "      <td>5.0</td>\n",
       "      <td>0.556</td>\n",
       "      <td>{'alpha': 5.0, 'l1_ratio': 0.556}</td>\n",
       "      <td>0.453038</td>\n",
       "      <td>0.470984</td>\n",
       "      <td>0.439376</td>\n",
       "      <td>0.395920</td>\n",
       "      <td>0.389984</td>\n",
       "      <td>0.429860</td>\n",
       "      <td>0.031815</td>\n",
       "      <td>159</td>\n",
       "    </tr>\n",
       "    <tr>\n",
       "      <th>196</th>\n",
       "      <td>0.003124</td>\n",
       "      <td>0.006247</td>\n",
       "      <td>0.000000</td>\n",
       "      <td>0.000000</td>\n",
       "      <td>5.0</td>\n",
       "      <td>0.667</td>\n",
       "      <td>{'alpha': 5.0, 'l1_ratio': 0.667}</td>\n",
       "      <td>0.483275</td>\n",
       "      <td>0.496818</td>\n",
       "      <td>0.465508</td>\n",
       "      <td>0.422705</td>\n",
       "      <td>0.416662</td>\n",
       "      <td>0.456993</td>\n",
       "      <td>0.032098</td>\n",
       "      <td>141</td>\n",
       "    </tr>\n",
       "    <tr>\n",
       "      <th>197</th>\n",
       "      <td>0.003124</td>\n",
       "      <td>0.006248</td>\n",
       "      <td>0.000000</td>\n",
       "      <td>0.000000</td>\n",
       "      <td>5.0</td>\n",
       "      <td>0.778</td>\n",
       "      <td>{'alpha': 5.0, 'l1_ratio': 0.778}</td>\n",
       "      <td>0.526509</td>\n",
       "      <td>0.533378</td>\n",
       "      <td>0.504299</td>\n",
       "      <td>0.462000</td>\n",
       "      <td>0.453722</td>\n",
       "      <td>0.495981</td>\n",
       "      <td>0.032681</td>\n",
       "      <td>114</td>\n",
       "    </tr>\n",
       "    <tr>\n",
       "      <th>198</th>\n",
       "      <td>0.000000</td>\n",
       "      <td>0.000000</td>\n",
       "      <td>0.000000</td>\n",
       "      <td>0.000000</td>\n",
       "      <td>5.0</td>\n",
       "      <td>0.889</td>\n",
       "      <td>{'alpha': 5.0, 'l1_ratio': 0.889}</td>\n",
       "      <td>0.593209</td>\n",
       "      <td>0.588322</td>\n",
       "      <td>0.568372</td>\n",
       "      <td>0.526231</td>\n",
       "      <td>0.507695</td>\n",
       "      <td>0.556766</td>\n",
       "      <td>0.034056</td>\n",
       "      <td>79</td>\n",
       "    </tr>\n",
       "    <tr>\n",
       "      <th>199</th>\n",
       "      <td>0.000000</td>\n",
       "      <td>0.000000</td>\n",
       "      <td>0.003124</td>\n",
       "      <td>0.006249</td>\n",
       "      <td>5.0</td>\n",
       "      <td>1.0</td>\n",
       "      <td>{'alpha': 5.0, 'l1_ratio': 1.0}</td>\n",
       "      <td>0.683451</td>\n",
       "      <td>0.633394</td>\n",
       "      <td>0.693379</td>\n",
       "      <td>0.653332</td>\n",
       "      <td>0.583501</td>\n",
       "      <td>0.649412</td>\n",
       "      <td>0.039263</td>\n",
       "      <td>30</td>\n",
       "    </tr>\n",
       "  </tbody>\n",
       "</table>\n",
       "<p>200 rows × 15 columns</p>\n",
       "</div>"
      ],
      "text/plain": [
       "     mean_fit_time  std_fit_time  mean_score_time  std_score_time param_alpha  \\\n",
       "0         0.002811      0.005622         0.000377        0.000755       0.001   \n",
       "1         0.000163      0.000327         0.002972        0.005943       0.001   \n",
       "2         0.003183      0.006366         0.000142        0.000284       0.001   \n",
       "3         0.000356      0.000713         0.003003        0.006005       0.001   \n",
       "4         0.003337      0.006674         0.002997        0.005995       0.001   \n",
       "..             ...           ...              ...             ...         ...   \n",
       "195       0.003124      0.006248         0.003125        0.006250         5.0   \n",
       "196       0.003124      0.006247         0.000000        0.000000         5.0   \n",
       "197       0.003124      0.006248         0.000000        0.000000         5.0   \n",
       "198       0.000000      0.000000         0.000000        0.000000         5.0   \n",
       "199       0.000000      0.000000         0.003124        0.006249         5.0   \n",
       "\n",
       "    param_l1_ratio                               params  split0_test_score  \\\n",
       "0            0.001  {'alpha': 0.001, 'l1_ratio': 0.001}           0.683923   \n",
       "1            0.112  {'alpha': 0.001, 'l1_ratio': 0.112}           0.683843   \n",
       "2            0.223  {'alpha': 0.001, 'l1_ratio': 0.223}           0.683763   \n",
       "3            0.334  {'alpha': 0.001, 'l1_ratio': 0.334}           0.683681   \n",
       "4            0.445  {'alpha': 0.001, 'l1_ratio': 0.445}           0.683599   \n",
       "..             ...                                  ...                ...   \n",
       "195          0.556    {'alpha': 5.0, 'l1_ratio': 0.556}           0.453038   \n",
       "196          0.667    {'alpha': 5.0, 'l1_ratio': 0.667}           0.483275   \n",
       "197          0.778    {'alpha': 5.0, 'l1_ratio': 0.778}           0.526509   \n",
       "198          0.889    {'alpha': 5.0, 'l1_ratio': 0.889}           0.593209   \n",
       "199            1.0      {'alpha': 5.0, 'l1_ratio': 1.0}           0.683451   \n",
       "\n",
       "     split1_test_score  split2_test_score  split3_test_score  \\\n",
       "0             0.634146           0.693301           0.653260   \n",
       "1             0.634046           0.693318           0.653313   \n",
       "2             0.633945           0.693336           0.653367   \n",
       "3             0.633843           0.693352           0.653420   \n",
       "4             0.633740           0.693369           0.653474   \n",
       "..                 ...                ...                ...   \n",
       "195           0.470984           0.439376           0.395920   \n",
       "196           0.496818           0.465508           0.422705   \n",
       "197           0.533378           0.504299           0.462000   \n",
       "198           0.588322           0.568372           0.526231   \n",
       "199           0.633394           0.693379           0.653332   \n",
       "\n",
       "     split4_test_score  mean_test_score  std_test_score  rank_test_score  \n",
       "0             0.583349         0.649596        0.039317                1  \n",
       "1             0.583363         0.649577        0.039312                2  \n",
       "2             0.583377         0.649557        0.039306                3  \n",
       "3             0.583390         0.649537        0.039300                4  \n",
       "4             0.583404         0.649517        0.039294                5  \n",
       "..                 ...              ...             ...              ...  \n",
       "195           0.389984         0.429860        0.031815              159  \n",
       "196           0.416662         0.456993        0.032098              141  \n",
       "197           0.453722         0.495981        0.032681              114  \n",
       "198           0.507695         0.556766        0.034056               79  \n",
       "199           0.583501         0.649412        0.039263               30  \n",
       "\n",
       "[200 rows x 15 columns]"
      ]
     },
     "execution_count": 16,
     "metadata": {},
     "output_type": "execute_result"
    }
   ],
   "source": [
    "pd.DataFrame(gcv.cv_results_)"
   ]
  },
  {
   "cell_type": "code",
   "execution_count": 17,
   "id": "1c1dd65d",
   "metadata": {},
   "outputs": [
    {
     "name": "stdout",
     "output_type": "stream",
     "text": [
      "GCV best score:  0.6495959483887184\n",
      "GCV best parameters:  {'alpha': 0.001, 'l1_ratio': 0.001}\n"
     ]
    }
   ],
   "source": [
    "print('GCV best score: ', gcv.best_score_)\n",
    "print('GCV best parameters: ', gcv.best_params_)"
   ]
  },
  {
   "cell_type": "markdown",
   "id": "a4645c08",
   "metadata": {},
   "source": [
    "### best estimetor of ridge"
   ]
  },
  {
   "cell_type": "code",
   "execution_count": 18,
   "id": "2869a99f",
   "metadata": {},
   "outputs": [],
   "source": [
    "best_rg=gcv_rg.best_estimator_\n"
   ]
  },
  {
   "cell_type": "markdown",
   "id": "99fcaf97",
   "metadata": {},
   "source": [
    "### Unlabelled data"
   ]
  },
  {
   "cell_type": "code",
   "execution_count": 19,
   "id": "db8730b5",
   "metadata": {},
   "outputs": [],
   "source": [
    "tst=pd.read_csv(r\"C:\\Users\\dbda\\Desktop\\ML\\Cases\\Real Estate\\tstHousing.csv\")"
   ]
  },
  {
   "cell_type": "code",
   "execution_count": 20,
   "id": "15ef9fe0",
   "metadata": {},
   "outputs": [
    {
     "data": {
      "text/plain": [
       "Index(['lotsize', 'bedrooms', 'bathrms', 'stories', 'garagepl', 'driveway_yes',\n",
       "       'recroom_yes', 'fullbase_yes', 'gashw_yes', 'airco_yes',\n",
       "       'prefarea_yes'],\n",
       "      dtype='object')"
      ]
     },
     "execution_count": 20,
     "metadata": {},
     "output_type": "execute_result"
    }
   ],
   "source": [
    "dum_tst=pd.get_dummies(tst,drop_first=True)\n",
    "dum_tst.columns"
   ]
  },
  {
   "cell_type": "code",
   "execution_count": 21,
   "id": "bd3cc094",
   "metadata": {},
   "outputs": [
    {
     "data": {
      "text/plain": [
       "Index(['lotsize', 'bedrooms', 'bathrms', 'stories', 'garagepl', 'driveway_yes',\n",
       "       'recroom_yes', 'fullbase_yes', 'gashw_yes', 'airco_yes',\n",
       "       'prefarea_yes'],\n",
       "      dtype='object')"
      ]
     },
     "execution_count": 21,
     "metadata": {},
     "output_type": "execute_result"
    }
   ],
   "source": [
    "X.columns"
   ]
  },
  {
   "cell_type": "code",
   "execution_count": 22,
   "id": "679ed52b",
   "metadata": {},
   "outputs": [
    {
     "data": {
      "text/html": [
       "<div>\n",
       "<style scoped>\n",
       "    .dataframe tbody tr th:only-of-type {\n",
       "        vertical-align: middle;\n",
       "    }\n",
       "\n",
       "    .dataframe tbody tr th {\n",
       "        vertical-align: top;\n",
       "    }\n",
       "\n",
       "    .dataframe thead th {\n",
       "        text-align: right;\n",
       "    }\n",
       "</style>\n",
       "<table border=\"1\" class=\"dataframe\">\n",
       "  <thead>\n",
       "    <tr style=\"text-align: right;\">\n",
       "      <th></th>\n",
       "      <th>lotsize</th>\n",
       "      <th>bedrooms</th>\n",
       "      <th>bathrms</th>\n",
       "      <th>stories</th>\n",
       "      <th>driveway</th>\n",
       "      <th>recroom</th>\n",
       "      <th>fullbase</th>\n",
       "      <th>gashw</th>\n",
       "      <th>airco</th>\n",
       "      <th>garagepl</th>\n",
       "      <th>prefarea</th>\n",
       "      <th>Pred_Price</th>\n",
       "    </tr>\n",
       "  </thead>\n",
       "  <tbody>\n",
       "    <tr>\n",
       "      <th>0</th>\n",
       "      <td>3450</td>\n",
       "      <td>3</td>\n",
       "      <td>1</td>\n",
       "      <td>2</td>\n",
       "      <td>yes</td>\n",
       "      <td>no</td>\n",
       "      <td>yes</td>\n",
       "      <td>no</td>\n",
       "      <td>no</td>\n",
       "      <td>1</td>\n",
       "      <td>no</td>\n",
       "      <td>57951.739108</td>\n",
       "    </tr>\n",
       "    <tr>\n",
       "      <th>1</th>\n",
       "      <td>2309</td>\n",
       "      <td>1</td>\n",
       "      <td>1</td>\n",
       "      <td>1</td>\n",
       "      <td>no</td>\n",
       "      <td>no</td>\n",
       "      <td>no</td>\n",
       "      <td>no</td>\n",
       "      <td>no</td>\n",
       "      <td>0</td>\n",
       "      <td>no</td>\n",
       "      <td>27282.770437</td>\n",
       "    </tr>\n",
       "    <tr>\n",
       "      <th>2</th>\n",
       "      <td>8940</td>\n",
       "      <td>2</td>\n",
       "      <td>2</td>\n",
       "      <td>3</td>\n",
       "      <td>yes</td>\n",
       "      <td>no</td>\n",
       "      <td>yes</td>\n",
       "      <td>yes</td>\n",
       "      <td>yes</td>\n",
       "      <td>1</td>\n",
       "      <td>yes</td>\n",
       "      <td>127578.009065</td>\n",
       "    </tr>\n",
       "    <tr>\n",
       "      <th>3</th>\n",
       "      <td>5810</td>\n",
       "      <td>3</td>\n",
       "      <td>1</td>\n",
       "      <td>2</td>\n",
       "      <td>no</td>\n",
       "      <td>yes</td>\n",
       "      <td>no</td>\n",
       "      <td>no</td>\n",
       "      <td>no</td>\n",
       "      <td>0</td>\n",
       "      <td>no</td>\n",
       "      <td>54975.551589</td>\n",
       "    </tr>\n",
       "  </tbody>\n",
       "</table>\n",
       "</div>"
      ],
      "text/plain": [
       "   lotsize  bedrooms  bathrms  stories driveway recroom fullbase gashw airco  \\\n",
       "0     3450         3        1        2      yes      no      yes    no    no   \n",
       "1     2309         1        1        1       no      no       no    no    no   \n",
       "2     8940         2        2        3      yes      no      yes   yes   yes   \n",
       "3     5810         3        1        2       no     yes       no    no    no   \n",
       "\n",
       "   garagepl prefarea     Pred_Price  \n",
       "0         1       no   57951.739108  \n",
       "1         0       no   27282.770437  \n",
       "2         1      yes  127578.009065  \n",
       "3         0       no   54975.551589  "
      ]
     },
     "execution_count": 22,
     "metadata": {},
     "output_type": "execute_result"
    }
   ],
   "source": [
    "tst['Pred_Price']=best_rg.predict(dum_tst)\n",
    "tst"
   ]
  },
  {
   "cell_type": "code",
   "execution_count": null,
   "id": "527a1c7a",
   "metadata": {},
   "outputs": [],
   "source": []
  }
 ],
 "metadata": {
  "kernelspec": {
   "display_name": "Python 3 (ipykernel)",
   "language": "python",
   "name": "python3"
  },
  "language_info": {
   "codemirror_mode": {
    "name": "ipython",
    "version": 3
   },
   "file_extension": ".py",
   "mimetype": "text/x-python",
   "name": "python",
   "nbconvert_exporter": "python",
   "pygments_lexer": "ipython3",
   "version": "3.11.5"
  }
 },
 "nbformat": 4,
 "nbformat_minor": 5
}

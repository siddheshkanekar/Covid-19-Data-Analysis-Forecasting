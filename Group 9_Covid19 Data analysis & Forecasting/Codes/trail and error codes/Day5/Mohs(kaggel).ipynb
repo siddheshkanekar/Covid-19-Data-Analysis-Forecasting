{
 "cells": [
  {
   "cell_type": "code",
   "execution_count": 1,
   "id": "8c450c64",
   "metadata": {},
   "outputs": [],
   "source": [
    "from sklearn.pipeline import Pipeline\n",
    "from sklearn.preprocessing import PolynomialFeatures\n",
    "import pandas as pd\n",
    "import numpy as np\n",
    "import os\n",
    "from sklearn.linear_model import LinearRegression\n",
    "from sklearn.metrics import mean_squared_error, r2_score\n",
    "from sklearn.model_selection import KFold,cross_val_score\n",
    "from sklearn.model_selection import train_test_split\n",
    "from sklearn.model_selection import KFold\n",
    "from sklearn.model_selection import GridSearchCV\n",
    "from sklearn.model_selection import cross_val_score\n",
    "os.chdir(r'C:\\Users\\dbda\\Desktop\\ML\\Cases\\Mohs_Dec23')"
   ]
  },
  {
   "cell_type": "code",
   "execution_count": 2,
   "id": "f0378459",
   "metadata": {},
   "outputs": [],
   "source": [
    "t_mohs=pd.read_csv(\"train.csv\",index_col=0)\n",
    "dum_t_mohs = pd.get_dummies(t_mohs, drop_first = True)"
   ]
  },
  {
   "cell_type": "code",
   "execution_count": 3,
   "id": "1eed4647",
   "metadata": {},
   "outputs": [],
   "source": [
    "X = dum_t_mohs.drop('Hardness', axis = 1)\n",
    "\n",
    "y = dum_t_mohs['Hardness']"
   ]
  },
  {
   "cell_type": "markdown",
   "id": "6e1bb376",
   "metadata": {},
   "source": [
    "### Ridge"
   ]
  },
  {
   "cell_type": "code",
   "execution_count": 4,
   "id": "1dfcef04",
   "metadata": {},
   "outputs": [
    {
     "name": "stdout",
     "output_type": "stream",
     "text": [
      "GCV best score:  0.24085489603846968\n",
      "GCV best parameters:  {'alpha': 1.0535263157894736}\n"
     ]
    }
   ],
   "source": [
    "from sklearn.linear_model import Ridge\n",
    "ridge=Ridge()\n",
    "params = {'alpha': np.linspace(0.001, 10,20)}\n",
    "kfold = KFold(n_splits = 5, shuffle = True, random_state = 23)\n",
    "gcv_rg= GridSearchCV(ridge, cv = kfold, param_grid = params)\n",
    "gcv_rg.fit(X,y)\n",
    "print('GCV best score: ', gcv_rg.best_score_)\n",
    "print('GCV best parameters: ', gcv_rg.best_params_)"
   ]
  },
  {
   "cell_type": "markdown",
   "id": "1573c984",
   "metadata": {},
   "source": [
    "### Lasso"
   ]
  },
  {
   "cell_type": "code",
   "execution_count": 5,
   "id": "9526989f",
   "metadata": {},
   "outputs": [
    {
     "name": "stdout",
     "output_type": "stream",
     "text": [
      "GCV best score:  0.24069752131958483\n",
      "GCV best parameters:  {'alpha': 0.001}\n"
     ]
    }
   ],
   "source": [
    "from sklearn.linear_model import Lasso\n",
    "lasso=Lasso()\n",
    "params = {'alpha': np.linspace(0.001, 10,20)}\n",
    "kfold = KFold(n_splits = 5, shuffle = True, random_state = 23)\n",
    "gcv = GridSearchCV(lasso, cv = kfold, param_grid = params)\n",
    "gcv.fit(X,y)\n",
    "print('GCV best score: ', gcv.best_score_)\n",
    "print('GCV best parameters: ', gcv.best_params_)\n"
   ]
  },
  {
   "cell_type": "markdown",
   "id": "c0754a6d",
   "metadata": {},
   "source": [
    "### Elastic Net"
   ]
  },
  {
   "cell_type": "code",
   "execution_count": 6,
   "id": "75fa2316",
   "metadata": {},
   "outputs": [
    {
     "name": "stdout",
     "output_type": "stream",
     "text": [
      "GCV best score:  0.24069752131958483\n",
      "GCV best parameters:  {'alpha': 0.001, 'l1_ratio': 1.0}\n"
     ]
    }
   ],
   "source": [
    "from sklearn.linear_model import ElasticNet\n",
    "elastic=ElasticNet()\n",
    "params = {'alpha': np.linspace(0.001, 5,20),\n",
    "         'l1_ratio':np.linspace(0.001, 1,10)}\n",
    "kfold = KFold(n_splits = 5, shuffle = True, random_state = 23)\n",
    "gcv = GridSearchCV(elastic, cv = kfold, param_grid = params)\n",
    "gcv.fit(X,y)\n",
    "pd.DataFrame(gcv.cv_results_)\n",
    "print('GCV best score: ', gcv.best_score_)\n",
    "print('GCV best parameters: ', gcv.best_params_)"
   ]
  },
  {
   "cell_type": "markdown",
   "id": "8ca51291",
   "metadata": {},
   "source": [
    "### Best Estimator"
   ]
  },
  {
   "cell_type": "code",
   "execution_count": 7,
   "id": "08f5c0ec",
   "metadata": {},
   "outputs": [],
   "source": [
    "best_rg=gcv_rg.best_estimator_"
   ]
  },
  {
   "cell_type": "markdown",
   "id": "f5afd233",
   "metadata": {},
   "source": [
    "### Unlabelled data"
   ]
  },
  {
   "cell_type": "code",
   "execution_count": 12,
   "id": "f498e4cd",
   "metadata": {},
   "outputs": [],
   "source": [
    "tst=pd.read_csv(r\"C:\\Users\\dbda\\Desktop\\ML\\Cases\\Mohs_Dec23\\test.csv\",index_col=0)\n"
   ]
  },
  {
   "cell_type": "code",
   "execution_count": 13,
   "id": "68d6c6c9",
   "metadata": {},
   "outputs": [
    {
     "data": {
      "text/plain": [
       "Index(['allelectrons_Total', 'density_Total', 'allelectrons_Average',\n",
       "       'val_e_Average', 'atomicweight_Average', 'ionenergy_Average',\n",
       "       'el_neg_chi_Average', 'R_vdw_element_Average', 'R_cov_element_Average',\n",
       "       'zaratio_Average', 'density_Average'],\n",
       "      dtype='object')"
      ]
     },
     "execution_count": 13,
     "metadata": {},
     "output_type": "execute_result"
    }
   ],
   "source": [
    "dum_tst=pd.get_dummies(tst,drop_first=True)\n",
    "dum_tst.columns"
   ]
  },
  {
   "cell_type": "code",
   "execution_count": 14,
   "id": "37812850",
   "metadata": {},
   "outputs": [],
   "source": [
    "tst['Pred_Hardness']=best_rg.predict(dum_tst)"
   ]
  },
  {
   "cell_type": "code",
   "execution_count": 16,
   "id": "5707295d",
   "metadata": {},
   "outputs": [
    {
     "data": {
      "text/html": [
       "<div>\n",
       "<style scoped>\n",
       "    .dataframe tbody tr th:only-of-type {\n",
       "        vertical-align: middle;\n",
       "    }\n",
       "\n",
       "    .dataframe tbody tr th {\n",
       "        vertical-align: top;\n",
       "    }\n",
       "\n",
       "    .dataframe thead th {\n",
       "        text-align: right;\n",
       "    }\n",
       "</style>\n",
       "<table border=\"1\" class=\"dataframe\">\n",
       "  <thead>\n",
       "    <tr style=\"text-align: right;\">\n",
       "      <th></th>\n",
       "      <th>allelectrons_Total</th>\n",
       "      <th>density_Total</th>\n",
       "      <th>allelectrons_Average</th>\n",
       "      <th>val_e_Average</th>\n",
       "      <th>atomicweight_Average</th>\n",
       "      <th>ionenergy_Average</th>\n",
       "      <th>el_neg_chi_Average</th>\n",
       "      <th>R_vdw_element_Average</th>\n",
       "      <th>R_cov_element_Average</th>\n",
       "      <th>zaratio_Average</th>\n",
       "      <th>density_Average</th>\n",
       "      <th>Pred_Hardness</th>\n",
       "    </tr>\n",
       "    <tr>\n",
       "      <th>id</th>\n",
       "      <th></th>\n",
       "      <th></th>\n",
       "      <th></th>\n",
       "      <th></th>\n",
       "      <th></th>\n",
       "      <th></th>\n",
       "      <th></th>\n",
       "      <th></th>\n",
       "      <th></th>\n",
       "      <th></th>\n",
       "      <th></th>\n",
       "      <th></th>\n",
       "    </tr>\n",
       "  </thead>\n",
       "  <tbody>\n",
       "    <tr>\n",
       "      <th>10407</th>\n",
       "      <td>884.0</td>\n",
       "      <td>121.420000</td>\n",
       "      <td>35.360000</td>\n",
       "      <td>5.280000</td>\n",
       "      <td>82.561240</td>\n",
       "      <td>9.370384</td>\n",
       "      <td>2.298000</td>\n",
       "      <td>1.907200</td>\n",
       "      <td>1.200000</td>\n",
       "      <td>0.461899</td>\n",
       "      <td>1.79459</td>\n",
       "      <td>3.483739</td>\n",
       "    </tr>\n",
       "    <tr>\n",
       "      <th>10408</th>\n",
       "      <td>90.0</td>\n",
       "      <td>9.931960</td>\n",
       "      <td>18.000000</td>\n",
       "      <td>5.600000</td>\n",
       "      <td>39.568056</td>\n",
       "      <td>12.086300</td>\n",
       "      <td>2.868000</td>\n",
       "      <td>1.652000</td>\n",
       "      <td>0.864000</td>\n",
       "      <td>0.476196</td>\n",
       "      <td>1.41194</td>\n",
       "      <td>4.833068</td>\n",
       "    </tr>\n",
       "    <tr>\n",
       "      <th>10409</th>\n",
       "      <td>116.0</td>\n",
       "      <td>7.767992</td>\n",
       "      <td>11.600000</td>\n",
       "      <td>4.800000</td>\n",
       "      <td>23.231818</td>\n",
       "      <td>11.023840</td>\n",
       "      <td>2.644000</td>\n",
       "      <td>1.794000</td>\n",
       "      <td>0.960000</td>\n",
       "      <td>0.499514</td>\n",
       "      <td>0.78834</td>\n",
       "      <td>5.283257</td>\n",
       "    </tr>\n",
       "    <tr>\n",
       "      <th>10410</th>\n",
       "      <td>100.0</td>\n",
       "      <td>9.107996</td>\n",
       "      <td>10.000000</td>\n",
       "      <td>4.800000</td>\n",
       "      <td>20.298893</td>\n",
       "      <td>12.086300</td>\n",
       "      <td>2.828000</td>\n",
       "      <td>1.662000</td>\n",
       "      <td>0.792000</td>\n",
       "      <td>0.495796</td>\n",
       "      <td>1.20466</td>\n",
       "      <td>5.268807</td>\n",
       "    </tr>\n",
       "    <tr>\n",
       "      <th>10411</th>\n",
       "      <td>55.0</td>\n",
       "      <td>4.030000</td>\n",
       "      <td>11.000000</td>\n",
       "      <td>4.000000</td>\n",
       "      <td>22.977675</td>\n",
       "      <td>11.280950</td>\n",
       "      <td>2.455000</td>\n",
       "      <td>1.750000</td>\n",
       "      <td>0.893333</td>\n",
       "      <td>0.476095</td>\n",
       "      <td>0.93456</td>\n",
       "      <td>5.083274</td>\n",
       "    </tr>\n",
       "    <tr>\n",
       "      <th>...</th>\n",
       "      <td>...</td>\n",
       "      <td>...</td>\n",
       "      <td>...</td>\n",
       "      <td>...</td>\n",
       "      <td>...</td>\n",
       "      <td>...</td>\n",
       "      <td>...</td>\n",
       "      <td>...</td>\n",
       "      <td>...</td>\n",
       "      <td>...</td>\n",
       "      <td>...</td>\n",
       "      <td>...</td>\n",
       "    </tr>\n",
       "    <tr>\n",
       "      <th>17341</th>\n",
       "      <td>446.0</td>\n",
       "      <td>36.135392</td>\n",
       "      <td>9.636364</td>\n",
       "      <td>4.636364</td>\n",
       "      <td>19.689448</td>\n",
       "      <td>11.045515</td>\n",
       "      <td>2.768636</td>\n",
       "      <td>1.769697</td>\n",
       "      <td>0.871818</td>\n",
       "      <td>0.498702</td>\n",
       "      <td>0.11548</td>\n",
       "      <td>5.496252</td>\n",
       "    </tr>\n",
       "    <tr>\n",
       "      <th>17342</th>\n",
       "      <td>36.0</td>\n",
       "      <td>3.550000</td>\n",
       "      <td>18.000000</td>\n",
       "      <td>4.000000</td>\n",
       "      <td>36.068500</td>\n",
       "      <td>8.236600</td>\n",
       "      <td>1.790000</td>\n",
       "      <td>2.055000</td>\n",
       "      <td>1.390000</td>\n",
       "      <td>0.499000</td>\n",
       "      <td>1.35045</td>\n",
       "      <td>4.501663</td>\n",
       "    </tr>\n",
       "    <tr>\n",
       "      <th>17343</th>\n",
       "      <td>68.0</td>\n",
       "      <td>4.545328</td>\n",
       "      <td>11.333333</td>\n",
       "      <td>5.333333</td>\n",
       "      <td>22.688853</td>\n",
       "      <td>10.938358</td>\n",
       "      <td>2.876667</td>\n",
       "      <td>1.713333</td>\n",
       "      <td>0.916667</td>\n",
       "      <td>0.499074</td>\n",
       "      <td>0.73425</td>\n",
       "      <td>5.465102</td>\n",
       "    </tr>\n",
       "    <tr>\n",
       "      <th>17344</th>\n",
       "      <td>40.0</td>\n",
       "      <td>2.334164</td>\n",
       "      <td>6.666667</td>\n",
       "      <td>4.000000</td>\n",
       "      <td>13.016128</td>\n",
       "      <td>12.700467</td>\n",
       "      <td>2.770000</td>\n",
       "      <td>1.476667</td>\n",
       "      <td>0.616667</td>\n",
       "      <td>0.663797</td>\n",
       "      <td>0.51227</td>\n",
       "      <td>4.368452</td>\n",
       "    </tr>\n",
       "    <tr>\n",
       "      <th>17345</th>\n",
       "      <td>134.0</td>\n",
       "      <td>17.590000</td>\n",
       "      <td>67.000000</td>\n",
       "      <td>5.000000</td>\n",
       "      <td>167.400000</td>\n",
       "      <td>8.213150</td>\n",
       "      <td>1.950000</td>\n",
       "      <td>2.040000</td>\n",
       "      <td>1.410000</td>\n",
       "      <td>0.401635</td>\n",
       "      <td>0.44035</td>\n",
       "      <td>1.682862</td>\n",
       "    </tr>\n",
       "  </tbody>\n",
       "</table>\n",
       "<p>6939 rows × 12 columns</p>\n",
       "</div>"
      ],
      "text/plain": [
       "       allelectrons_Total  density_Total  allelectrons_Average  val_e_Average  \\\n",
       "id                                                                              \n",
       "10407               884.0     121.420000             35.360000       5.280000   \n",
       "10408                90.0       9.931960             18.000000       5.600000   \n",
       "10409               116.0       7.767992             11.600000       4.800000   \n",
       "10410               100.0       9.107996             10.000000       4.800000   \n",
       "10411                55.0       4.030000             11.000000       4.000000   \n",
       "...                   ...            ...                   ...            ...   \n",
       "17341               446.0      36.135392              9.636364       4.636364   \n",
       "17342                36.0       3.550000             18.000000       4.000000   \n",
       "17343                68.0       4.545328             11.333333       5.333333   \n",
       "17344                40.0       2.334164              6.666667       4.000000   \n",
       "17345               134.0      17.590000             67.000000       5.000000   \n",
       "\n",
       "       atomicweight_Average  ionenergy_Average  el_neg_chi_Average  \\\n",
       "id                                                                   \n",
       "10407             82.561240           9.370384            2.298000   \n",
       "10408             39.568056          12.086300            2.868000   \n",
       "10409             23.231818          11.023840            2.644000   \n",
       "10410             20.298893          12.086300            2.828000   \n",
       "10411             22.977675          11.280950            2.455000   \n",
       "...                     ...                ...                 ...   \n",
       "17341             19.689448          11.045515            2.768636   \n",
       "17342             36.068500           8.236600            1.790000   \n",
       "17343             22.688853          10.938358            2.876667   \n",
       "17344             13.016128          12.700467            2.770000   \n",
       "17345            167.400000           8.213150            1.950000   \n",
       "\n",
       "       R_vdw_element_Average  R_cov_element_Average  zaratio_Average  \\\n",
       "id                                                                     \n",
       "10407               1.907200               1.200000         0.461899   \n",
       "10408               1.652000               0.864000         0.476196   \n",
       "10409               1.794000               0.960000         0.499514   \n",
       "10410               1.662000               0.792000         0.495796   \n",
       "10411               1.750000               0.893333         0.476095   \n",
       "...                      ...                    ...              ...   \n",
       "17341               1.769697               0.871818         0.498702   \n",
       "17342               2.055000               1.390000         0.499000   \n",
       "17343               1.713333               0.916667         0.499074   \n",
       "17344               1.476667               0.616667         0.663797   \n",
       "17345               2.040000               1.410000         0.401635   \n",
       "\n",
       "       density_Average  Pred_Hardness  \n",
       "id                                     \n",
       "10407          1.79459       3.483739  \n",
       "10408          1.41194       4.833068  \n",
       "10409          0.78834       5.283257  \n",
       "10410          1.20466       5.268807  \n",
       "10411          0.93456       5.083274  \n",
       "...                ...            ...  \n",
       "17341          0.11548       5.496252  \n",
       "17342          1.35045       4.501663  \n",
       "17343          0.73425       5.465102  \n",
       "17344          0.51227       4.368452  \n",
       "17345          0.44035       1.682862  \n",
       "\n",
       "[6939 rows x 12 columns]"
      ]
     },
     "execution_count": 16,
     "metadata": {},
     "output_type": "execute_result"
    }
   ],
   "source": [
    "tst"
   ]
  },
  {
   "cell_type": "code",
   "execution_count": 36,
   "id": "7f48d0bb",
   "metadata": {},
   "outputs": [
    {
     "data": {
      "text/plain": [
       "2"
      ]
     },
     "execution_count": 36,
     "metadata": {},
     "output_type": "execute_result"
    }
   ],
   "source": [
    "prediction=best_rg.predict(dum_tst)\n",
    "np.sum(prediction < 0)"
   ]
  },
  {
   "cell_type": "code",
   "execution_count": 38,
   "id": "9090bfe8",
   "metadata": {},
   "outputs": [
    {
     "data": {
      "text/plain": [
       "0"
      ]
     },
     "execution_count": 38,
     "metadata": {},
     "output_type": "execute_result"
    }
   ],
   "source": [
    "prediction=np.where(prediction < 0,0,prediction)\n",
    "np.sum(prediction < 0)"
   ]
  },
  {
   "cell_type": "markdown",
   "id": "de42e4ae",
   "metadata": {},
   "source": [
    "### Submission"
   ]
  },
  {
   "cell_type": "code",
   "execution_count": 39,
   "id": "e4303a5a",
   "metadata": {},
   "outputs": [],
   "source": [
    "submission=pd.read_csv(r\"C:\\Users\\dbda\\Desktop\\ML\\Cases\\Mohs_Dec23\\sample_submission.csv\",index_col=False)"
   ]
  },
  {
   "cell_type": "code",
   "execution_count": 40,
   "id": "4d17a2d4",
   "metadata": {},
   "outputs": [],
   "source": [
    "submission['Hardness']=prediction"
   ]
  },
  {
   "cell_type": "code",
   "execution_count": 41,
   "id": "1e92190e",
   "metadata": {},
   "outputs": [
    {
     "data": {
      "text/html": [
       "<div>\n",
       "<style scoped>\n",
       "    .dataframe tbody tr th:only-of-type {\n",
       "        vertical-align: middle;\n",
       "    }\n",
       "\n",
       "    .dataframe tbody tr th {\n",
       "        vertical-align: top;\n",
       "    }\n",
       "\n",
       "    .dataframe thead th {\n",
       "        text-align: right;\n",
       "    }\n",
       "</style>\n",
       "<table border=\"1\" class=\"dataframe\">\n",
       "  <thead>\n",
       "    <tr style=\"text-align: right;\">\n",
       "      <th></th>\n",
       "      <th>id</th>\n",
       "      <th>Hardness</th>\n",
       "    </tr>\n",
       "  </thead>\n",
       "  <tbody>\n",
       "    <tr>\n",
       "      <th>0</th>\n",
       "      <td>10407</td>\n",
       "      <td>3.483739</td>\n",
       "    </tr>\n",
       "    <tr>\n",
       "      <th>1</th>\n",
       "      <td>10408</td>\n",
       "      <td>4.833068</td>\n",
       "    </tr>\n",
       "    <tr>\n",
       "      <th>2</th>\n",
       "      <td>10409</td>\n",
       "      <td>5.283257</td>\n",
       "    </tr>\n",
       "    <tr>\n",
       "      <th>3</th>\n",
       "      <td>10410</td>\n",
       "      <td>5.268807</td>\n",
       "    </tr>\n",
       "    <tr>\n",
       "      <th>4</th>\n",
       "      <td>10411</td>\n",
       "      <td>5.083274</td>\n",
       "    </tr>\n",
       "    <tr>\n",
       "      <th>...</th>\n",
       "      <td>...</td>\n",
       "      <td>...</td>\n",
       "    </tr>\n",
       "    <tr>\n",
       "      <th>6934</th>\n",
       "      <td>17341</td>\n",
       "      <td>5.496252</td>\n",
       "    </tr>\n",
       "    <tr>\n",
       "      <th>6935</th>\n",
       "      <td>17342</td>\n",
       "      <td>4.501663</td>\n",
       "    </tr>\n",
       "    <tr>\n",
       "      <th>6936</th>\n",
       "      <td>17343</td>\n",
       "      <td>5.465102</td>\n",
       "    </tr>\n",
       "    <tr>\n",
       "      <th>6937</th>\n",
       "      <td>17344</td>\n",
       "      <td>4.368452</td>\n",
       "    </tr>\n",
       "    <tr>\n",
       "      <th>6938</th>\n",
       "      <td>17345</td>\n",
       "      <td>1.682862</td>\n",
       "    </tr>\n",
       "  </tbody>\n",
       "</table>\n",
       "<p>6939 rows × 2 columns</p>\n",
       "</div>"
      ],
      "text/plain": [
       "         id  Hardness\n",
       "0     10407  3.483739\n",
       "1     10408  4.833068\n",
       "2     10409  5.283257\n",
       "3     10410  5.268807\n",
       "4     10411  5.083274\n",
       "...     ...       ...\n",
       "6934  17341  5.496252\n",
       "6935  17342  4.501663\n",
       "6936  17343  5.465102\n",
       "6937  17344  4.368452\n",
       "6938  17345  1.682862\n",
       "\n",
       "[6939 rows x 2 columns]"
      ]
     },
     "execution_count": 41,
     "metadata": {},
     "output_type": "execute_result"
    }
   ],
   "source": [
    "submission"
   ]
  },
  {
   "cell_type": "code",
   "execution_count": 43,
   "id": "9380d4bd",
   "metadata": {},
   "outputs": [],
   "source": [
    "submission.to_csv(\"smt_mohs_2019.csv\",index=False)"
   ]
  },
  {
   "cell_type": "code",
   "execution_count": null,
   "id": "0a981467",
   "metadata": {},
   "outputs": [],
   "source": []
  }
 ],
 "metadata": {
  "kernelspec": {
   "display_name": "Python 3 (ipykernel)",
   "language": "python",
   "name": "python3"
  },
  "language_info": {
   "codemirror_mode": {
    "name": "ipython",
    "version": 3
   },
   "file_extension": ".py",
   "mimetype": "text/x-python",
   "name": "python",
   "nbconvert_exporter": "python",
   "pygments_lexer": "ipython3",
   "version": "3.11.5"
  }
 },
 "nbformat": 4,
 "nbformat_minor": 5
}

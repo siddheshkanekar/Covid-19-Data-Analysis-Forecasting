{
 "cells": [
  {
   "cell_type": "code",
   "execution_count": 1,
   "id": "5c98fcd1",
   "metadata": {},
   "outputs": [],
   "source": [
    "from sklearn.pipeline import Pipeline\n",
    "from sklearn.preprocessing import PolynomialFeatures\n",
    "import pandas as pd\n",
    "import numpy as np\n",
    "import os\n",
    "from sklearn.linear_model import LinearRegression\n",
    "from sklearn.metrics import mean_squared_error, r2_score\n",
    "from sklearn.model_selection import KFold,cross_val_score\n",
    "from sklearn.model_selection import train_test_split\n",
    "from sklearn.model_selection import KFold\n",
    "from sklearn.model_selection import GridSearchCV\n",
    "from sklearn.model_selection import cross_val_score\n",
    "os.chdir('C:/Users/dbda/Desktop/ML/Datasets')"
   ]
  },
  {
   "cell_type": "code",
   "execution_count": 2,
   "id": "28690c05",
   "metadata": {},
   "outputs": [],
   "source": [
    "from sklearn.linear_model import Lasso"
   ]
  },
  {
   "cell_type": "code",
   "execution_count": 3,
   "id": "c3a0669a",
   "metadata": {},
   "outputs": [],
   "source": [
    "boston = pd.read_csv('Boston.csv')\n",
    "x = boston.drop('medv', axis = 1)\n",
    "y = boston['medv']"
   ]
  },
  {
   "cell_type": "code",
   "execution_count": 4,
   "id": "fba579c0",
   "metadata": {},
   "outputs": [],
   "source": [
    "lasso=Lasso()"
   ]
  },
  {
   "cell_type": "markdown",
   "id": "ad897e21",
   "metadata": {},
   "source": [
    "### Grid serach"
   ]
  },
  {
   "cell_type": "code",
   "execution_count": 5,
   "id": "4f81bbda",
   "metadata": {},
   "outputs": [],
   "source": [
    "params = {'alpha': np.linspace(0.001, 10,20)}\n",
    "kfold = KFold(n_splits = 5, shuffle = True, random_state = 23)"
   ]
  },
  {
   "cell_type": "code",
   "execution_count": 6,
   "id": "f092fd74",
   "metadata": {
    "scrolled": true
   },
   "outputs": [
    {
     "name": "stdout",
     "output_type": "stream",
     "text": [
      "GCV best score:  0.7185811395066942\n",
      "GCV best parameters:  {'alpha': 0.001}\n"
     ]
    }
   ],
   "source": [
    "gcv = GridSearchCV(lasso, cv = kfold, param_grid = params)\n",
    "gcv.fit(x,y)\n",
    "print('GCV best score: ', gcv.best_score_)\n",
    "print('GCV best parameters: ', gcv.best_params_)"
   ]
  }
 ],
 "metadata": {
  "kernelspec": {
   "display_name": "Python 3 (ipykernel)",
   "language": "python",
   "name": "python3"
  },
  "language_info": {
   "codemirror_mode": {
    "name": "ipython",
    "version": 3
   },
   "file_extension": ".py",
   "mimetype": "text/x-python",
   "name": "python",
   "nbconvert_exporter": "python",
   "pygments_lexer": "ipython3",
   "version": "3.11.5"
  }
 },
 "nbformat": 4,
 "nbformat_minor": 5
}

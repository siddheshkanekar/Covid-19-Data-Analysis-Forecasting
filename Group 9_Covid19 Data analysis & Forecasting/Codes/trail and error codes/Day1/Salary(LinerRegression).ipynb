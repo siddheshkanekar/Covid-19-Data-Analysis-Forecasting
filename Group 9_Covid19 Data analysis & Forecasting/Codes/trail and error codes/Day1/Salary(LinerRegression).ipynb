{
 "cells": [
  {
   "cell_type": "code",
   "execution_count": 1,
   "id": "98cc971b",
   "metadata": {
    "tags": []
   },
   "outputs": [],
   "source": [
    "import pandas as pd\n",
    "import numpy as np\n",
    "from sklearn.linear_model import LinearRegression"
   ]
  },
  {
   "cell_type": "code",
   "execution_count": 2,
   "id": "d5d9f4be",
   "metadata": {
    "tags": []
   },
   "outputs": [],
   "source": [
    "sal=pd.read_csv(\"C:/Users/dbda/Desktop/ML/Day1/Salaries.csv\")"
   ]
  },
  {
   "cell_type": "code",
   "execution_count": 3,
   "id": "9b7e9854",
   "metadata": {
    "tags": []
   },
   "outputs": [],
   "source": [
    "dum_sals=pd.get_dummies(sal)\n",
    "#dum_sals"
   ]
  },
  {
   "cell_type": "code",
   "execution_count": 4,
   "id": "c1e0782f",
   "metadata": {
    "tags": []
   },
   "outputs": [],
   "source": [
    "dum_sals=pd.get_dummies(sal,drop_first=True)\n",
    "#dum_sals"
   ]
  },
  {
   "cell_type": "code",
   "execution_count": 5,
   "id": "41b7bf89",
   "metadata": {
    "tags": []
   },
   "outputs": [],
   "source": [
    "y=dum_sals['salary']\n"
   ]
  },
  {
   "cell_type": "code",
   "execution_count": null,
   "id": "2819e3f3-cacf-4253-8903-c0943da3613d",
   "metadata": {},
   "outputs": [],
   "source": []
  },
  {
   "cell_type": "code",
   "execution_count": 7,
   "id": "12cf5129",
   "metadata": {
    "tags": []
   },
   "outputs": [
    {
     "data": {
      "text/plain": [
       "198116333525.07697"
      ]
     },
     "execution_count": 7,
     "metadata": {},
     "output_type": "execute_result"
    }
   ],
   "source": [
    "X=dum_sals.drop(\"salary\",axis=1)\n",
    "y=dum_sals['salary']\n",
    "lr=LinearRegression()\n",
    "lr.fit(X,y)\n",
    "ycap=lr.predict(X)\n",
    "sum=np.sum((y-ycap)**2)\n",
    "sum"
   ]
  },
  {
   "cell_type": "code",
   "execution_count": 8,
   "id": "32a2c4e6-1a14-45a0-9876-75dd7c0cdc93",
   "metadata": {
    "tags": []
   },
   "outputs": [
    {
     "data": {
      "text/plain": [
       "78862.82025652146"
      ]
     },
     "execution_count": 8,
     "metadata": {},
     "output_type": "execute_result"
    }
   ],
   "source": [
    "lr.intercept_"
   ]
  },
  {
   "cell_type": "code",
   "execution_count": null,
   "id": "e1e86351-f77e-491f-a3e9-4cd253ba72b2",
   "metadata": {},
   "outputs": [],
   "source": []
  }
 ],
 "metadata": {
  "kernelspec": {
   "display_name": "Python 3 (ipykernel)",
   "language": "python",
   "name": "python3"
  },
  "language_info": {
   "codemirror_mode": {
    "name": "ipython",
    "version": 3
   },
   "file_extension": ".py",
   "mimetype": "text/x-python",
   "name": "python",
   "nbconvert_exporter": "python",
   "pygments_lexer": "ipython3",
   "version": "3.11.5"
  }
 },
 "nbformat": 4,
 "nbformat_minor": 5
}

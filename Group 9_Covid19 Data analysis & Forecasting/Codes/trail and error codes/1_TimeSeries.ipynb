{
 "cells": [
  {
   "cell_type": "code",
   "execution_count": 2,
   "id": "initial_id",
   "metadata": {
    "ExecuteTime": {
     "end_time": "2024-01-15T03:20:00.755699300Z",
     "start_time": "2024-01-15T03:19:59.115207Z"
    },
    "collapsed": true
   },
   "outputs": [],
   "source": [
    "import pandas as pd\n",
    "import numpy as np\n",
    "from statsmodels.tsa.stattools import adfuller"
   ]
  },
  {
   "cell_type": "code",
   "execution_count": 3,
   "id": "e128636368529fcd",
   "metadata": {
    "ExecuteTime": {
     "end_time": "2024-01-15T03:20:31.235429600Z",
     "start_time": "2024-01-15T03:20:31.214788500Z"
    }
   },
   "outputs": [
    {
     "data": {
      "text/html": [
       "<div>\n",
       "<style scoped>\n",
       "    .dataframe tbody tr th:only-of-type {\n",
       "        vertical-align: middle;\n",
       "    }\n",
       "\n",
       "    .dataframe tbody tr th {\n",
       "        vertical-align: top;\n",
       "    }\n",
       "\n",
       "    .dataframe thead th {\n",
       "        text-align: right;\n",
       "    }\n",
       "</style>\n",
       "<table border=\"1\" class=\"dataframe\">\n",
       "  <thead>\n",
       "    <tr style=\"text-align: right;\">\n",
       "      <th></th>\n",
       "      <th>Month</th>\n",
       "      <th>Milk</th>\n",
       "    </tr>\n",
       "  </thead>\n",
       "  <tbody>\n",
       "    <tr>\n",
       "      <th>0</th>\n",
       "      <td>1962-01</td>\n",
       "      <td>589</td>\n",
       "    </tr>\n",
       "    <tr>\n",
       "      <th>1</th>\n",
       "      <td>1962-02</td>\n",
       "      <td>561</td>\n",
       "    </tr>\n",
       "    <tr>\n",
       "      <th>2</th>\n",
       "      <td>1962-03</td>\n",
       "      <td>640</td>\n",
       "    </tr>\n",
       "    <tr>\n",
       "      <th>3</th>\n",
       "      <td>1962-04</td>\n",
       "      <td>656</td>\n",
       "    </tr>\n",
       "    <tr>\n",
       "      <th>4</th>\n",
       "      <td>1962-05</td>\n",
       "      <td>727</td>\n",
       "    </tr>\n",
       "    <tr>\n",
       "      <th>...</th>\n",
       "      <td>...</td>\n",
       "      <td>...</td>\n",
       "    </tr>\n",
       "    <tr>\n",
       "      <th>163</th>\n",
       "      <td>1975-08</td>\n",
       "      <td>858</td>\n",
       "    </tr>\n",
       "    <tr>\n",
       "      <th>164</th>\n",
       "      <td>1975-09</td>\n",
       "      <td>817</td>\n",
       "    </tr>\n",
       "    <tr>\n",
       "      <th>165</th>\n",
       "      <td>1975-10</td>\n",
       "      <td>827</td>\n",
       "    </tr>\n",
       "    <tr>\n",
       "      <th>166</th>\n",
       "      <td>1975-11</td>\n",
       "      <td>797</td>\n",
       "    </tr>\n",
       "    <tr>\n",
       "      <th>167</th>\n",
       "      <td>1975-12</td>\n",
       "      <td>843</td>\n",
       "    </tr>\n",
       "  </tbody>\n",
       "</table>\n",
       "<p>168 rows × 2 columns</p>\n",
       "</div>"
      ],
      "text/plain": [
       "       Month  Milk\n",
       "0    1962-01   589\n",
       "1    1962-02   561\n",
       "2    1962-03   640\n",
       "3    1962-04   656\n",
       "4    1962-05   727\n",
       "..       ...   ...\n",
       "163  1975-08   858\n",
       "164  1975-09   817\n",
       "165  1975-10   827\n",
       "166  1975-11   797\n",
       "167  1975-12   843\n",
       "\n",
       "[168 rows x 2 columns]"
      ]
     },
     "execution_count": 3,
     "metadata": {},
     "output_type": "execute_result"
    }
   ],
   "source": [
    "df = pd.read_csv(\"monthly-milk-production-pounds-p.csv\")\n",
    "df"
   ]
  },
  {
   "cell_type": "code",
   "execution_count": 5,
   "id": "643261418dd22ff6",
   "metadata": {
    "ExecuteTime": {
     "end_time": "2024-01-15T03:21:20.464731400Z",
     "start_time": "2024-01-15T03:21:20.433463Z"
    }
   },
   "outputs": [],
   "source": [
    "# ADF TEst\n",
    "y = df['Milk']\n",
    "ad_result = adfuller(y,autolag=None)"
   ]
  },
  {
   "cell_type": "code",
   "execution_count": 6,
   "id": "164358de8395e27f",
   "metadata": {
    "ExecuteTime": {
     "end_time": "2024-01-15T03:22:05.897157200Z",
     "start_time": "2024-01-15T03:22:05.882677300Z"
    }
   },
   "outputs": [
    {
     "name": "stdout",
     "output_type": "stream",
     "text": [
      "Non-stationarity\n"
     ]
    }
   ],
   "source": [
    "p_val = ad_result[1]\n",
    "if p_val < 0.05:\n",
    "    print(\"Stationarity\")\n",
    "else:\n",
    "    print(\"Non-stationarity\")"
   ]
  },
  {
   "cell_type": "code",
   "execution_count": 13,
   "id": "1e9abda604f8bea",
   "metadata": {
    "ExecuteTime": {
     "end_time": "2024-01-15T03:24:51.173685700Z",
     "start_time": "2024-01-15T03:24:51.158402600Z"
    }
   },
   "outputs": [
    {
     "name": "stdout",
     "output_type": "stream",
     "text": [
      "Stationarity\n"
     ]
    }
   ],
   "source": [
    "# 1st order diff\n",
    "d_y = y-y.shift(1)\n",
    "ad_result = adfuller(d_y.iloc[1:],autolag=None)\n",
    "p_val = ad_result[1]\n",
    "if p_val < 0.05:\n",
    "    print(\"Stationarity\")\n",
    "else:\n",
    "    print(\"Non-stationarity\")"
   ]
  },
  {
   "cell_type": "markdown",
   "id": "23f773859f396beb",
   "metadata": {},
   "source": [
    "__ADF for WGEM dataset__"
   ]
  },
  {
   "cell_type": "code",
   "execution_count": 14,
   "id": "3907349a92cd182a",
   "metadata": {
    "ExecuteTime": {
     "end_time": "2024-01-15T03:25:44.646223700Z",
     "start_time": "2024-01-15T03:25:44.635155900Z"
    }
   },
   "outputs": [
    {
     "data": {
      "text/html": [
       "<div>\n",
       "<style scoped>\n",
       "    .dataframe tbody tr th:only-of-type {\n",
       "        vertical-align: middle;\n",
       "    }\n",
       "\n",
       "    .dataframe tbody tr th {\n",
       "        vertical-align: top;\n",
       "    }\n",
       "\n",
       "    .dataframe thead th {\n",
       "        text-align: right;\n",
       "    }\n",
       "</style>\n",
       "<table border=\"1\" class=\"dataframe\">\n",
       "  <thead>\n",
       "    <tr style=\"text-align: right;\">\n",
       "      <th></th>\n",
       "      <th>Date</th>\n",
       "      <th>Value</th>\n",
       "    </tr>\n",
       "  </thead>\n",
       "  <tbody>\n",
       "    <tr>\n",
       "      <th>0</th>\n",
       "      <td>31-12-1987</td>\n",
       "      <td>19.448655</td>\n",
       "    </tr>\n",
       "    <tr>\n",
       "      <th>1</th>\n",
       "      <td>31-12-1988</td>\n",
       "      <td>21.274000</td>\n",
       "    </tr>\n",
       "    <tr>\n",
       "      <th>2</th>\n",
       "      <td>31-12-1989</td>\n",
       "      <td>21.967677</td>\n",
       "    </tr>\n",
       "    <tr>\n",
       "      <th>3</th>\n",
       "      <td>31-12-1990</td>\n",
       "      <td>23.939126</td>\n",
       "    </tr>\n",
       "    <tr>\n",
       "      <th>4</th>\n",
       "      <td>31-12-1991</td>\n",
       "      <td>27.259261</td>\n",
       "    </tr>\n",
       "    <tr>\n",
       "      <th>5</th>\n",
       "      <td>31-12-1992</td>\n",
       "      <td>30.471893</td>\n",
       "    </tr>\n",
       "    <tr>\n",
       "      <th>6</th>\n",
       "      <td>31-12-1993</td>\n",
       "      <td>32.411083</td>\n",
       "    </tr>\n",
       "    <tr>\n",
       "      <th>7</th>\n",
       "      <td>31-12-1994</td>\n",
       "      <td>35.720636</td>\n",
       "    </tr>\n",
       "    <tr>\n",
       "      <th>8</th>\n",
       "      <td>31-12-1995</td>\n",
       "      <td>39.372939</td>\n",
       "    </tr>\n",
       "    <tr>\n",
       "      <th>9</th>\n",
       "      <td>31-12-1996</td>\n",
       "      <td>42.907602</td>\n",
       "    </tr>\n",
       "    <tr>\n",
       "      <th>10</th>\n",
       "      <td>31-12-1997</td>\n",
       "      <td>45.981085</td>\n",
       "    </tr>\n",
       "    <tr>\n",
       "      <th>11</th>\n",
       "      <td>31-12-1998</td>\n",
       "      <td>52.066580</td>\n",
       "    </tr>\n",
       "    <tr>\n",
       "      <th>12</th>\n",
       "      <td>31-12-1999</td>\n",
       "      <td>54.496160</td>\n",
       "    </tr>\n",
       "    <tr>\n",
       "      <th>13</th>\n",
       "      <td>31-12-2000</td>\n",
       "      <td>56.680771</td>\n",
       "    </tr>\n",
       "    <tr>\n",
       "      <th>14</th>\n",
       "      <td>31-12-2001</td>\n",
       "      <td>58.768732</td>\n",
       "    </tr>\n",
       "    <tr>\n",
       "      <th>15</th>\n",
       "      <td>31-12-2002</td>\n",
       "      <td>61.826650</td>\n",
       "    </tr>\n",
       "    <tr>\n",
       "      <th>16</th>\n",
       "      <td>31-12-2003</td>\n",
       "      <td>64.499797</td>\n",
       "    </tr>\n",
       "    <tr>\n",
       "      <th>17</th>\n",
       "      <td>31-12-2004</td>\n",
       "      <td>66.990684</td>\n",
       "    </tr>\n",
       "    <tr>\n",
       "      <th>18</th>\n",
       "      <td>31-12-2005</td>\n",
       "      <td>69.501823</td>\n",
       "    </tr>\n",
       "    <tr>\n",
       "      <th>19</th>\n",
       "      <td>31-12-2006</td>\n",
       "      <td>73.724180</td>\n",
       "    </tr>\n",
       "    <tr>\n",
       "      <th>20</th>\n",
       "      <td>31-12-2007</td>\n",
       "      <td>78.138923</td>\n",
       "    </tr>\n",
       "    <tr>\n",
       "      <th>21</th>\n",
       "      <td>31-12-2008</td>\n",
       "      <td>84.842041</td>\n",
       "    </tr>\n",
       "    <tr>\n",
       "      <th>22</th>\n",
       "      <td>31-12-2009</td>\n",
       "      <td>93.094370</td>\n",
       "    </tr>\n",
       "    <tr>\n",
       "      <th>23</th>\n",
       "      <td>31-12-2010</td>\n",
       "      <td>102.723775</td>\n",
       "    </tr>\n",
       "    <tr>\n",
       "      <th>24</th>\n",
       "      <td>31-12-2011</td>\n",
       "      <td>111.259619</td>\n",
       "    </tr>\n",
       "    <tr>\n",
       "      <th>25</th>\n",
       "      <td>31-12-2012</td>\n",
       "      <td>121.699068</td>\n",
       "    </tr>\n",
       "    <tr>\n",
       "      <th>26</th>\n",
       "      <td>31-12-2013</td>\n",
       "      <td>133.697853</td>\n",
       "    </tr>\n",
       "    <tr>\n",
       "      <th>27</th>\n",
       "      <td>31-12-2014</td>\n",
       "      <td>142.588092</td>\n",
       "    </tr>\n",
       "    <tr>\n",
       "      <th>28</th>\n",
       "      <td>31-12-2015</td>\n",
       "      <td>149.584852</td>\n",
       "    </tr>\n",
       "    <tr>\n",
       "      <th>29</th>\n",
       "      <td>31-12-2016</td>\n",
       "      <td>156.986634</td>\n",
       "    </tr>\n",
       "    <tr>\n",
       "      <th>30</th>\n",
       "      <td>31-12-2017</td>\n",
       "      <td>161.263669</td>\n",
       "    </tr>\n",
       "  </tbody>\n",
       "</table>\n",
       "</div>"
      ],
      "text/plain": [
       "          Date       Value\n",
       "0   31-12-1987   19.448655\n",
       "1   31-12-1988   21.274000\n",
       "2   31-12-1989   21.967677\n",
       "3   31-12-1990   23.939126\n",
       "4   31-12-1991   27.259261\n",
       "5   31-12-1992   30.471893\n",
       "6   31-12-1993   32.411083\n",
       "7   31-12-1994   35.720636\n",
       "8   31-12-1995   39.372939\n",
       "9   31-12-1996   42.907602\n",
       "10  31-12-1997   45.981085\n",
       "11  31-12-1998   52.066580\n",
       "12  31-12-1999   54.496160\n",
       "13  31-12-2000   56.680771\n",
       "14  31-12-2001   58.768732\n",
       "15  31-12-2002   61.826650\n",
       "16  31-12-2003   64.499797\n",
       "17  31-12-2004   66.990684\n",
       "18  31-12-2005   69.501823\n",
       "19  31-12-2006   73.724180\n",
       "20  31-12-2007   78.138923\n",
       "21  31-12-2008   84.842041\n",
       "22  31-12-2009   93.094370\n",
       "23  31-12-2010  102.723775\n",
       "24  31-12-2011  111.259619\n",
       "25  31-12-2012  121.699068\n",
       "26  31-12-2013  133.697853\n",
       "27  31-12-2014  142.588092\n",
       "28  31-12-2015  149.584852\n",
       "29  31-12-2016  156.986634\n",
       "30  31-12-2017  161.263669"
      ]
     },
     "execution_count": 14,
     "metadata": {},
     "output_type": "execute_result"
    }
   ],
   "source": [
    "df = pd.read_csv(\"WGEM-IND_CPTOTNSXN.csv\")\n",
    "df"
   ]
  },
  {
   "cell_type": "code",
   "execution_count": 16,
   "id": "1cfd66369c694c9",
   "metadata": {
    "ExecuteTime": {
     "end_time": "2024-01-15T03:26:29.526147600Z",
     "start_time": "2024-01-15T03:26:29.510804300Z"
    }
   },
   "outputs": [
    {
     "name": "stdout",
     "output_type": "stream",
     "text": [
      "(4.452801690708268, 1.0, 9, 21, {'1%': -3.7883858816542486, '5%': -3.013097747543462, '10%': -2.6463967573696143})\n",
      "Non-stationarity\n"
     ]
    }
   ],
   "source": [
    "# ADF TEst\n",
    "y = df['Value']\n",
    "ad_result = adfuller(y, autolag=None)\n",
    "p_val = ad_result[1]\n",
    "print(ad_result)\n",
    "if p_val < 0.05:\n",
    "    print(\"Stationarity\")\n",
    "else:\n",
    "    print(\"Non-stationarity\")\n"
   ]
  },
  {
   "cell_type": "code",
   "execution_count": 17,
   "id": "12672c770f909dec",
   "metadata": {
    "ExecuteTime": {
     "end_time": "2024-01-15T03:26:36.913465600Z",
     "start_time": "2024-01-15T03:26:36.903150300Z"
    }
   },
   "outputs": [
    {
     "name": "stdout",
     "output_type": "stream",
     "text": [
      "Non-stationarity\n"
     ]
    }
   ],
   "source": [
    "# 1st order diff\n",
    "d_y = y - y.shift(1)\n",
    "ad_result = adfuller(d_y.iloc[1:], autolag=None)\n",
    "p_val = ad_result[1]\n",
    "if p_val < 0.05:\n",
    "    print(\"Stationarity\")\n",
    "else:\n",
    "    print(\"Non-stationarity\")"
   ]
  },
  {
   "cell_type": "code",
   "execution_count": 30,
   "id": "8f6aed5dac840b72",
   "metadata": {
    "ExecuteTime": {
     "end_time": "2024-01-15T03:35:33.300358300Z",
     "start_time": "2024-01-15T03:35:33.288199100Z"
    }
   },
   "outputs": [
    {
     "name": "stdout",
     "output_type": "stream",
     "text": [
      "Stationarity\n"
     ]
    }
   ],
   "source": [
    "# 2ndt order diff\n",
    "d_2y = d_y - d_y.shift(2)\n",
    "ad_result = adfuller(d_y.iloc[2:], autolag=None)\n",
    "p_val = ad_result[1]\n",
    "if p_val < 0.05:\n",
    "    print(\"Stationarity\")\n",
    "else:\n",
    "    print(\"Non-stationarity\")"
   ]
  },
  {
   "cell_type": "markdown",
   "id": "5237dd92014a8ec9",
   "metadata": {},
   "source": [
    "__ADF for Gasoline Dataset__"
   ]
  },
  {
   "cell_type": "code",
   "execution_count": 25,
   "id": "d5a52af84efff2e0",
   "metadata": {
    "ExecuteTime": {
     "end_time": "2024-01-15T03:31:02.039159300Z",
     "start_time": "2024-01-15T03:31:02.027396100Z"
    }
   },
   "outputs": [
    {
     "data": {
      "text/html": [
       "<div>\n",
       "<style scoped>\n",
       "    .dataframe tbody tr th:only-of-type {\n",
       "        vertical-align: middle;\n",
       "    }\n",
       "\n",
       "    .dataframe tbody tr th {\n",
       "        vertical-align: top;\n",
       "    }\n",
       "\n",
       "    .dataframe thead th {\n",
       "        text-align: right;\n",
       "    }\n",
       "</style>\n",
       "<table border=\"1\" class=\"dataframe\">\n",
       "  <thead>\n",
       "    <tr style=\"text-align: right;\">\n",
       "      <th></th>\n",
       "      <th>Week</th>\n",
       "      <th>Sales</th>\n",
       "    </tr>\n",
       "  </thead>\n",
       "  <tbody>\n",
       "    <tr>\n",
       "      <th>0</th>\n",
       "      <td>1</td>\n",
       "      <td>17</td>\n",
       "    </tr>\n",
       "    <tr>\n",
       "      <th>1</th>\n",
       "      <td>2</td>\n",
       "      <td>21</td>\n",
       "    </tr>\n",
       "    <tr>\n",
       "      <th>2</th>\n",
       "      <td>3</td>\n",
       "      <td>19</td>\n",
       "    </tr>\n",
       "    <tr>\n",
       "      <th>3</th>\n",
       "      <td>4</td>\n",
       "      <td>23</td>\n",
       "    </tr>\n",
       "    <tr>\n",
       "      <th>4</th>\n",
       "      <td>5</td>\n",
       "      <td>18</td>\n",
       "    </tr>\n",
       "    <tr>\n",
       "      <th>5</th>\n",
       "      <td>6</td>\n",
       "      <td>16</td>\n",
       "    </tr>\n",
       "    <tr>\n",
       "      <th>6</th>\n",
       "      <td>7</td>\n",
       "      <td>20</td>\n",
       "    </tr>\n",
       "    <tr>\n",
       "      <th>7</th>\n",
       "      <td>8</td>\n",
       "      <td>18</td>\n",
       "    </tr>\n",
       "    <tr>\n",
       "      <th>8</th>\n",
       "      <td>9</td>\n",
       "      <td>22</td>\n",
       "    </tr>\n",
       "    <tr>\n",
       "      <th>9</th>\n",
       "      <td>10</td>\n",
       "      <td>20</td>\n",
       "    </tr>\n",
       "    <tr>\n",
       "      <th>10</th>\n",
       "      <td>11</td>\n",
       "      <td>15</td>\n",
       "    </tr>\n",
       "    <tr>\n",
       "      <th>11</th>\n",
       "      <td>12</td>\n",
       "      <td>22</td>\n",
       "    </tr>\n",
       "  </tbody>\n",
       "</table>\n",
       "</div>"
      ],
      "text/plain": [
       "    Week  Sales\n",
       "0      1     17\n",
       "1      2     21\n",
       "2      3     19\n",
       "3      4     23\n",
       "4      5     18\n",
       "5      6     16\n",
       "6      7     20\n",
       "7      8     18\n",
       "8      9     22\n",
       "9     10     20\n",
       "10    11     15\n",
       "11    12     22"
      ]
     },
     "execution_count": 25,
     "metadata": {},
     "output_type": "execute_result"
    }
   ],
   "source": [
    "df = pd.read_csv(\"Gasoline.csv\")\n",
    "df"
   ]
  },
  {
   "cell_type": "code",
   "execution_count": 26,
   "id": "929037c2d75ae8bd",
   "metadata": {
    "ExecuteTime": {
     "end_time": "2024-01-15T03:31:26.363121500Z",
     "start_time": "2024-01-15T03:31:26.333110600Z"
    }
   },
   "outputs": [],
   "source": [
    "y = df['Sales']\n",
    "ad_result = adfuller(y, autolag=None)"
   ]
  },
  {
   "cell_type": "code",
   "execution_count": 27,
   "id": "e09b402835effc94",
   "metadata": {
    "ExecuteTime": {
     "end_time": "2024-01-15T03:31:52.611530200Z",
     "start_time": "2024-01-15T03:31:52.596386700Z"
    }
   },
   "outputs": [
    {
     "name": "stdout",
     "output_type": "stream",
     "text": [
      "(-1.360655737704969, 0.6009862562529591, 4, 7, {'1%': -4.9386902332361515, '5%': -3.477582857142857, '10%': -2.8438679591836733})\n",
      "Non-stationarity\n"
     ]
    }
   ],
   "source": [
    "# ADF TEst\n",
    "y = df['Sales']\n",
    "ad_result = adfuller(y, autolag=None)\n",
    "p_val = ad_result[1]\n",
    "print(ad_result)\n",
    "if p_val < 0.05:\n",
    "    print(\"Stationarity\")\n",
    "else:\n",
    "    print(\"Non-stationarity\")"
   ]
  },
  {
   "cell_type": "code",
   "execution_count": 28,
   "id": "7cb1e57a8deacf2",
   "metadata": {
    "ExecuteTime": {
     "end_time": "2024-01-15T03:32:23.166932900Z",
     "start_time": "2024-01-15T03:32:23.156525300Z"
    }
   },
   "outputs": [
    {
     "name": "stdout",
     "output_type": "stream",
     "text": [
      "(-5.443853017036844, 2.7381863808017697e-06, 3, 7, {'1%': -4.9386902332361515, '5%': -3.477582857142857, '10%': -2.8438679591836733})\n",
      "Stationarity\n"
     ]
    }
   ],
   "source": [
    "# 1st order differencing\n",
    "d_y = y - y.shift()\n",
    "ad_result = adfuller(d_y[1:], autolag=None)\n",
    "p_val = ad_result[1]\n",
    "print(ad_result)\n",
    "if p_val < 0.05:\n",
    "    print(\"Stationarity\")\n",
    "else:\n",
    "    print(\"Non-stationarity\")"
   ]
  },
  {
   "cell_type": "code",
   "execution_count": null,
   "id": "7ffe9d4b7e368d47",
   "metadata": {},
   "outputs": [],
   "source": []
  }
 ],
 "metadata": {
  "kernelspec": {
   "display_name": "Python 3 (ipykernel)",
   "language": "python",
   "name": "python3"
  },
  "language_info": {
   "codemirror_mode": {
    "name": "ipython",
    "version": 3
   },
   "file_extension": ".py",
   "mimetype": "text/x-python",
   "name": "python",
   "nbconvert_exporter": "python",
   "pygments_lexer": "ipython3",
   "version": "3.11.5"
  }
 },
 "nbformat": 4,
 "nbformat_minor": 5
}

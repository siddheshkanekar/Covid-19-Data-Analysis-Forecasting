{
 "cells": [
  {
   "cell_type": "code",
   "execution_count": 1,
   "id": "e097a03a",
   "metadata": {},
   "outputs": [],
   "source": [
    "from sklearn.pipeline import Pipeline\n",
    "from sklearn.preprocessing import PolynomialFeatures"
   ]
  },
  {
   "cell_type": "code",
   "execution_count": 2,
   "id": "8191ab92",
   "metadata": {},
   "outputs": [
    {
     "name": "stdout",
     "output_type": "stream",
     "text": [
      "Boston shape:  (506, 14)\n"
     ]
    }
   ],
   "source": [
    "import pandas as pd\n",
    "import os\n",
    "os.chdir('C:/Users/dbda/Desktop/ML/Datasets')\n",
    "from sklearn.linear_model import LinearRegression\n",
    "from sklearn.metrics import mean_squared_error, r2_score\n",
    "from sklearn.model_selection import train_test_split\n",
    "\n",
    "\n",
    "boston = pd.read_csv('Boston.csv')\n",
    "print('Boston shape: ', boston.shape)\n",
    "\n",
    "train, test = train_test_split(boston, test_size = 0.3,random_state=23)\n",
    "\n",
    "x_train = train.drop('medv', axis = 1)\n",
    "y_train = train['medv']\n",
    "x_test = test.drop('medv', axis = 1)\n",
    "y_test = test['medv']"
   ]
  },
  {
   "cell_type": "code",
   "execution_count": 3,
   "id": "d059ffc3",
   "metadata": {},
   "outputs": [
    {
     "name": "stdout",
     "output_type": "stream",
     "text": [
      "0.6947991644651352\n"
     ]
    }
   ],
   "source": [
    "lr=LinearRegression()\n",
    "lr.fit(x_train, y_train)\n",
    "ycap = lr.predict(x_test)\n",
    "print(r2_score(y_test, ycap))"
   ]
  },
  {
   "cell_type": "code",
   "execution_count": 4,
   "id": "5096a0a6",
   "metadata": {},
   "outputs": [
    {
     "name": "stdout",
     "output_type": "stream",
     "text": [
      "0.004555312235532405\n"
     ]
    }
   ],
   "source": [
    "poly=PolynomialFeatures(degree=2)\n",
    "lr=LinearRegression()\n",
    "pipe=Pipeline([('POLY',poly),('LR',lr)])\n",
    "pipe.fit(x_train,y_train)\n",
    "ycap=pipe.predict(x_test)\n",
    "print(r2_score(y_test,ycap))"
   ]
  },
  {
   "cell_type": "code",
   "execution_count": 5,
   "id": "c4df9f18",
   "metadata": {},
   "outputs": [
    {
     "name": "stdout",
     "output_type": "stream",
     "text": [
      "-1821.658004277196\n"
     ]
    }
   ],
   "source": [
    "poly=PolynomialFeatures(degree=3)\n",
    "lr=LinearRegression()\n",
    "pipe=Pipeline([('POLY',poly),('LR',lr)])\n",
    "pipe.fit(x_train,y_train)\n",
    "ycap=pipe.predict(x_test)\n",
    "print(r2_score(y_test,ycap))"
   ]
  },
  {
   "cell_type": "code",
   "execution_count": 6,
   "id": "950669c7",
   "metadata": {},
   "outputs": [
    {
     "data": {
      "text/html": [
       "<div>\n",
       "<style scoped>\n",
       "    .dataframe tbody tr th:only-of-type {\n",
       "        vertical-align: middle;\n",
       "    }\n",
       "\n",
       "    .dataframe tbody tr th {\n",
       "        vertical-align: top;\n",
       "    }\n",
       "\n",
       "    .dataframe thead th {\n",
       "        text-align: right;\n",
       "    }\n",
       "</style>\n",
       "<table border=\"1\" class=\"dataframe\">\n",
       "  <thead>\n",
       "    <tr style=\"text-align: right;\">\n",
       "      <th></th>\n",
       "      <th>crim</th>\n",
       "      <th>zn</th>\n",
       "      <th>indus</th>\n",
       "      <th>chas</th>\n",
       "      <th>nox</th>\n",
       "      <th>rm</th>\n",
       "      <th>age</th>\n",
       "      <th>dis</th>\n",
       "      <th>rad</th>\n",
       "      <th>tax</th>\n",
       "      <th>ptratio</th>\n",
       "      <th>black</th>\n",
       "      <th>lstat</th>\n",
       "      <th>medv</th>\n",
       "    </tr>\n",
       "  </thead>\n",
       "  <tbody>\n",
       "    <tr>\n",
       "      <th>481</th>\n",
       "      <td>5.70818</td>\n",
       "      <td>0.0</td>\n",
       "      <td>18.10</td>\n",
       "      <td>0</td>\n",
       "      <td>0.532</td>\n",
       "      <td>6.750</td>\n",
       "      <td>74.9</td>\n",
       "      <td>3.3317</td>\n",
       "      <td>24</td>\n",
       "      <td>666</td>\n",
       "      <td>20.2</td>\n",
       "      <td>393.07</td>\n",
       "      <td>7.74</td>\n",
       "      <td>23.7</td>\n",
       "    </tr>\n",
       "    <tr>\n",
       "      <th>97</th>\n",
       "      <td>0.12083</td>\n",
       "      <td>0.0</td>\n",
       "      <td>2.89</td>\n",
       "      <td>0</td>\n",
       "      <td>0.445</td>\n",
       "      <td>8.069</td>\n",
       "      <td>76.0</td>\n",
       "      <td>3.4952</td>\n",
       "      <td>2</td>\n",
       "      <td>276</td>\n",
       "      <td>18.0</td>\n",
       "      <td>396.90</td>\n",
       "      <td>4.21</td>\n",
       "      <td>38.7</td>\n",
       "    </tr>\n",
       "    <tr>\n",
       "      <th>51</th>\n",
       "      <td>0.04337</td>\n",
       "      <td>21.0</td>\n",
       "      <td>5.64</td>\n",
       "      <td>0</td>\n",
       "      <td>0.439</td>\n",
       "      <td>6.115</td>\n",
       "      <td>63.0</td>\n",
       "      <td>6.8147</td>\n",
       "      <td>4</td>\n",
       "      <td>243</td>\n",
       "      <td>16.8</td>\n",
       "      <td>393.97</td>\n",
       "      <td>9.43</td>\n",
       "      <td>20.5</td>\n",
       "    </tr>\n",
       "    <tr>\n",
       "      <th>293</th>\n",
       "      <td>0.08265</td>\n",
       "      <td>0.0</td>\n",
       "      <td>13.92</td>\n",
       "      <td>0</td>\n",
       "      <td>0.437</td>\n",
       "      <td>6.127</td>\n",
       "      <td>18.4</td>\n",
       "      <td>5.5027</td>\n",
       "      <td>4</td>\n",
       "      <td>289</td>\n",
       "      <td>16.0</td>\n",
       "      <td>396.90</td>\n",
       "      <td>8.58</td>\n",
       "      <td>23.9</td>\n",
       "    </tr>\n",
       "    <tr>\n",
       "      <th>27</th>\n",
       "      <td>0.95577</td>\n",
       "      <td>0.0</td>\n",
       "      <td>8.14</td>\n",
       "      <td>0</td>\n",
       "      <td>0.538</td>\n",
       "      <td>6.047</td>\n",
       "      <td>88.8</td>\n",
       "      <td>4.4534</td>\n",
       "      <td>4</td>\n",
       "      <td>307</td>\n",
       "      <td>21.0</td>\n",
       "      <td>306.38</td>\n",
       "      <td>17.28</td>\n",
       "      <td>14.8</td>\n",
       "    </tr>\n",
       "  </tbody>\n",
       "</table>\n",
       "</div>"
      ],
      "text/plain": [
       "        crim    zn  indus  chas    nox     rm   age     dis  rad  tax  \\\n",
       "481  5.70818   0.0  18.10     0  0.532  6.750  74.9  3.3317   24  666   \n",
       "97   0.12083   0.0   2.89     0  0.445  8.069  76.0  3.4952    2  276   \n",
       "51   0.04337  21.0   5.64     0  0.439  6.115  63.0  6.8147    4  243   \n",
       "293  0.08265   0.0  13.92     0  0.437  6.127  18.4  5.5027    4  289   \n",
       "27   0.95577   0.0   8.14     0  0.538  6.047  88.8  4.4534    4  307   \n",
       "\n",
       "     ptratio   black  lstat  medv  \n",
       "481     20.2  393.07   7.74  23.7  \n",
       "97      18.0  396.90   4.21  38.7  \n",
       "51      16.8  393.97   9.43  20.5  \n",
       "293     16.0  396.90   8.58  23.9  \n",
       "27      21.0  306.38  17.28  14.8  "
      ]
     },
     "execution_count": 6,
     "metadata": {},
     "output_type": "execute_result"
    }
   ],
   "source": [
    "train.head()"
   ]
  },
  {
   "cell_type": "code",
   "execution_count": 7,
   "id": "65a2d07b",
   "metadata": {},
   "outputs": [
    {
     "data": {
      "text/html": [
       "<div>\n",
       "<style scoped>\n",
       "    .dataframe tbody tr th:only-of-type {\n",
       "        vertical-align: middle;\n",
       "    }\n",
       "\n",
       "    .dataframe tbody tr th {\n",
       "        vertical-align: top;\n",
       "    }\n",
       "\n",
       "    .dataframe thead th {\n",
       "        text-align: right;\n",
       "    }\n",
       "</style>\n",
       "<table border=\"1\" class=\"dataframe\">\n",
       "  <thead>\n",
       "    <tr style=\"text-align: right;\">\n",
       "      <th></th>\n",
       "      <th>crim</th>\n",
       "      <th>zn</th>\n",
       "      <th>indus</th>\n",
       "      <th>chas</th>\n",
       "      <th>nox</th>\n",
       "      <th>rm</th>\n",
       "      <th>age</th>\n",
       "      <th>dis</th>\n",
       "      <th>rad</th>\n",
       "      <th>tax</th>\n",
       "      <th>ptratio</th>\n",
       "      <th>black</th>\n",
       "      <th>lstat</th>\n",
       "      <th>medv</th>\n",
       "    </tr>\n",
       "  </thead>\n",
       "  <tbody>\n",
       "    <tr>\n",
       "      <th>176</th>\n",
       "      <td>0.07022</td>\n",
       "      <td>0.0</td>\n",
       "      <td>4.05</td>\n",
       "      <td>0</td>\n",
       "      <td>0.510</td>\n",
       "      <td>6.020</td>\n",
       "      <td>47.2</td>\n",
       "      <td>3.5549</td>\n",
       "      <td>5</td>\n",
       "      <td>296</td>\n",
       "      <td>16.6</td>\n",
       "      <td>393.23</td>\n",
       "      <td>10.11</td>\n",
       "      <td>23.2</td>\n",
       "    </tr>\n",
       "    <tr>\n",
       "      <th>311</th>\n",
       "      <td>0.79041</td>\n",
       "      <td>0.0</td>\n",
       "      <td>9.90</td>\n",
       "      <td>0</td>\n",
       "      <td>0.544</td>\n",
       "      <td>6.122</td>\n",
       "      <td>52.8</td>\n",
       "      <td>2.6403</td>\n",
       "      <td>4</td>\n",
       "      <td>304</td>\n",
       "      <td>18.4</td>\n",
       "      <td>396.90</td>\n",
       "      <td>5.98</td>\n",
       "      <td>22.1</td>\n",
       "    </tr>\n",
       "    <tr>\n",
       "      <th>94</th>\n",
       "      <td>0.04294</td>\n",
       "      <td>28.0</td>\n",
       "      <td>15.04</td>\n",
       "      <td>0</td>\n",
       "      <td>0.464</td>\n",
       "      <td>6.249</td>\n",
       "      <td>77.3</td>\n",
       "      <td>3.6150</td>\n",
       "      <td>4</td>\n",
       "      <td>270</td>\n",
       "      <td>18.2</td>\n",
       "      <td>396.90</td>\n",
       "      <td>10.59</td>\n",
       "      <td>20.6</td>\n",
       "    </tr>\n",
       "    <tr>\n",
       "      <th>139</th>\n",
       "      <td>0.54452</td>\n",
       "      <td>0.0</td>\n",
       "      <td>21.89</td>\n",
       "      <td>0</td>\n",
       "      <td>0.624</td>\n",
       "      <td>6.151</td>\n",
       "      <td>97.9</td>\n",
       "      <td>1.6687</td>\n",
       "      <td>4</td>\n",
       "      <td>437</td>\n",
       "      <td>21.2</td>\n",
       "      <td>396.90</td>\n",
       "      <td>18.46</td>\n",
       "      <td>17.8</td>\n",
       "    </tr>\n",
       "    <tr>\n",
       "      <th>232</th>\n",
       "      <td>0.57529</td>\n",
       "      <td>0.0</td>\n",
       "      <td>6.20</td>\n",
       "      <td>0</td>\n",
       "      <td>0.507</td>\n",
       "      <td>8.337</td>\n",
       "      <td>73.3</td>\n",
       "      <td>3.8384</td>\n",
       "      <td>8</td>\n",
       "      <td>307</td>\n",
       "      <td>17.4</td>\n",
       "      <td>385.91</td>\n",
       "      <td>2.47</td>\n",
       "      <td>41.7</td>\n",
       "    </tr>\n",
       "  </tbody>\n",
       "</table>\n",
       "</div>"
      ],
      "text/plain": [
       "        crim    zn  indus  chas    nox     rm   age     dis  rad  tax  \\\n",
       "176  0.07022   0.0   4.05     0  0.510  6.020  47.2  3.5549    5  296   \n",
       "311  0.79041   0.0   9.90     0  0.544  6.122  52.8  2.6403    4  304   \n",
       "94   0.04294  28.0  15.04     0  0.464  6.249  77.3  3.6150    4  270   \n",
       "139  0.54452   0.0  21.89     0  0.624  6.151  97.9  1.6687    4  437   \n",
       "232  0.57529   0.0   6.20     0  0.507  8.337  73.3  3.8384    8  307   \n",
       "\n",
       "     ptratio   black  lstat  medv  \n",
       "176     16.6  393.23  10.11  23.2  \n",
       "311     18.4  396.90   5.98  22.1  \n",
       "94      18.2  396.90  10.59  20.6  \n",
       "139     21.2  396.90  18.46  17.8  \n",
       "232     17.4  385.91   2.47  41.7  "
      ]
     },
     "execution_count": 7,
     "metadata": {},
     "output_type": "execute_result"
    }
   ],
   "source": [
    "test.head()"
   ]
  },
  {
   "cell_type": "markdown",
   "id": "739180b6",
   "metadata": {},
   "source": [
    "### housingdataset\n"
   ]
  },
  {
   "cell_type": "code",
   "execution_count": 8,
   "id": "b7a5e2fa",
   "metadata": {},
   "outputs": [
    {
     "data": {
      "text/plain": [
       "((382, 12), (164, 12))"
      ]
     },
     "execution_count": 8,
     "metadata": {},
     "output_type": "execute_result"
    }
   ],
   "source": [
    "import pandas as pd\n",
    "from sklearn.linear_model import LinearRegression\n",
    "from sklearn.metrics import mean_squared_error, r2_score\n",
    "\n",
    "import os\n",
    "os.chdir('C:/Users/dbda/Desktop/ML/Datasets')\n",
    "\n",
    "housing = pd.read_csv('Housing.csv')\n",
    "housing.head()\n",
    "\n",
    "dum_housing = pd.get_dummies(housing, drop_first = True)\n",
    "X= dum_housing.drop('price',axis=1)\n",
    "y=dum_housing['price']\n",
    "lr = LinearRegression()\n",
    "train, test = train_test_split(dum_housing, test_size = 0.3,random_state=23)\n",
    "train.shape ,test.shape"
   ]
  },
  {
   "cell_type": "markdown",
   "id": "b3405933",
   "metadata": {},
   "source": [
    "##### for degree 1\n"
   ]
  },
  {
   "cell_type": "code",
   "execution_count": 9,
   "id": "09f6832b",
   "metadata": {},
   "outputs": [
    {
     "name": "stdout",
     "output_type": "stream",
     "text": [
      "0.6543071090954233\n"
     ]
    }
   ],
   "source": [
    "x_train = train.drop('price', axis = 1)\n",
    "y_train = train['price']\n",
    "x_test = test.drop('price', axis = 1)\n",
    "y_test = test['price']\n",
    "\n",
    "lr = LinearRegression()\n",
    "lr.fit(x_train, y_train)\n",
    "ycap = lr.predict(x_test)\n",
    "print(r2_score(y_test, ycap))"
   ]
  },
  {
   "cell_type": "markdown",
   "id": "06b08f55",
   "metadata": {},
   "source": [
    "#### degree 1:  0.6543071090954233\n"
   ]
  },
  {
   "cell_type": "markdown",
   "id": "2338e194",
   "metadata": {},
   "source": [
    "### For degree 2"
   ]
  },
  {
   "cell_type": "code",
   "execution_count": 10,
   "id": "cb237d83",
   "metadata": {},
   "outputs": [
    {
     "name": "stdout",
     "output_type": "stream",
     "text": [
      "0.46346366308478815\n"
     ]
    }
   ],
   "source": [
    "from sklearn.preprocessing import PolynomialFeatures\n",
    "poly = PolynomialFeatures(degree = 2)\n",
    "x_poly_train = poly.fit_transform(x_train)\n",
    "\n",
    "\n",
    "lr.fit(x_poly_train, y_train)\n",
    "x_poly_test = poly.transform(x_test)\n",
    "ycap = lr.predict(x_poly_test)\n",
    "print(r2_score(y_test, ycap))"
   ]
  },
  {
   "cell_type": "markdown",
   "id": "459b39a9",
   "metadata": {},
   "source": [
    "#### degree 2: 0.46346366308478815"
   ]
  },
  {
   "cell_type": "markdown",
   "id": "ba024eb6",
   "metadata": {},
   "source": [
    "### for degree 3"
   ]
  },
  {
   "cell_type": "code",
   "execution_count": 11,
   "id": "985ed6f9",
   "metadata": {},
   "outputs": [
    {
     "name": "stdout",
     "output_type": "stream",
     "text": [
      "-5.351479624051129\n"
     ]
    }
   ],
   "source": [
    "from sklearn.preprocessing import PolynomialFeatures\n",
    "poly = PolynomialFeatures(degree = 3)\n",
    "x_poly_train = poly.fit_transform(x_train)\n",
    "\n",
    "\n",
    "lr.fit(x_poly_train, y_train)\n",
    "x_poly_test = poly.transform(x_test)\n",
    "ycap = lr.predict(x_poly_test)\n",
    "print(r2_score(y_test, ycap))"
   ]
  },
  {
   "cell_type": "markdown",
   "id": "c62c7a87",
   "metadata": {},
   "source": [
    "#### degre 3: -5.351479624051129"
   ]
  },
  {
   "cell_type": "code",
   "execution_count": null,
   "id": "12e9740f",
   "metadata": {},
   "outputs": [],
   "source": []
  }
 ],
 "metadata": {
  "kernelspec": {
   "display_name": "Python 3 (ipykernel)",
   "language": "python",
   "name": "python3"
  },
  "language_info": {
   "codemirror_mode": {
    "name": "ipython",
    "version": 3
   },
   "file_extension": ".py",
   "mimetype": "text/x-python",
   "name": "python",
   "nbconvert_exporter": "python",
   "pygments_lexer": "ipython3",
   "version": "3.11.5"
  }
 },
 "nbformat": 4,
 "nbformat_minor": 5
}

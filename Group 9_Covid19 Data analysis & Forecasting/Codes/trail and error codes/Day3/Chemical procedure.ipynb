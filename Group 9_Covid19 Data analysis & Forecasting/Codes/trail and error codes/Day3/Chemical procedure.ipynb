{
 "cells": [
  {
   "cell_type": "code",
   "execution_count": 1,
   "id": "90953526",
   "metadata": {},
   "outputs": [],
   "source": [
    "from sklearn.pipeline import Pipeline\n",
    "from sklearn.preprocessing import PolynomialFeatures\n",
    "import pandas as pd\n",
    "import numpy as np\n",
    "import os\n",
    "from sklearn.linear_model import LinearRegression\n",
    "from sklearn.metrics import mean_squared_error, r2_score\n",
    "from sklearn.model_selection import train_test_split\n",
    "\n",
    "from sklearn.impute import SimpleImputer\n",
    "os.chdir('C:/Users/dbda/Desktop/ML/Cases/Chemical Process Data')"
   ]
  },
  {
   "cell_type": "code",
   "execution_count": 2,
   "id": "13e5bc2d",
   "metadata": {},
   "outputs": [],
   "source": [
    "chem=pd.read_csv(\"ChemicalProcess.csv\")"
   ]
  },
  {
   "cell_type": "code",
   "execution_count": 3,
   "id": "fb4e6ea7",
   "metadata": {},
   "outputs": [],
   "source": [
    "sumnull=np.sum(chem.isnull())"
   ]
  },
  {
   "cell_type": "code",
   "execution_count": 4,
   "id": "6a529b21",
   "metadata": {},
   "outputs": [
    {
     "data": {
      "text/plain": [
       "106"
      ]
     },
     "execution_count": 4,
     "metadata": {},
     "output_type": "execute_result"
    }
   ],
   "source": [
    "sumnull.sum()"
   ]
  },
  {
   "cell_type": "code",
   "execution_count": 15,
   "id": "3b99303a",
   "metadata": {},
   "outputs": [
    {
     "data": {
      "text/plain": [
       "pandas.core.frame.DataFrame"
      ]
     },
     "execution_count": 15,
     "metadata": {},
     "output_type": "execute_result"
    }
   ],
   "source": [
    "imp= SimpleImputer(strategy=\"mean\").set_output(transform=\"pandas\")\n",
    "imputed=imp.fit_transform(chem)\n",
    "type(imputed)"
   ]
  },
  {
   "cell_type": "code",
   "execution_count": 23,
   "id": "5a8b5076",
   "metadata": {},
   "outputs": [],
   "source": [
    "X=imputed.drop('Yield',axis=1)\n",
    "y=imputed['Yield']"
   ]
  },
  {
   "cell_type": "code",
   "execution_count": 24,
   "id": "71ed18ed",
   "metadata": {},
   "outputs": [],
   "source": [
    "lr=LinearRegression()"
   ]
  },
  {
   "cell_type": "code",
   "execution_count": 25,
   "id": "eb886ef7",
   "metadata": {},
   "outputs": [],
   "source": [
    "X_train,X_test,y_train,y_test=train_test_split(X,y,test_size=0.3,random_state=23)"
   ]
  },
  {
   "cell_type": "markdown",
   "id": "a31e7a99",
   "metadata": {},
   "source": [
    "### degree 1"
   ]
  },
  {
   "cell_type": "code",
   "execution_count": 26,
   "id": "ac7187cc",
   "metadata": {},
   "outputs": [
    {
     "name": "stdout",
     "output_type": "stream",
     "text": [
      "0.40718168272734634\n"
     ]
    }
   ],
   "source": [
    "lr=LinearRegression()\n",
    "lr.fit(X_train, y_train)\n",
    "ycap = lr.predict(X_test)\n",
    "print(r2_score(y_test, ycap))"
   ]
  },
  {
   "cell_type": "markdown",
   "id": "52edc622",
   "metadata": {},
   "source": [
    "### degree 2"
   ]
  },
  {
   "cell_type": "code",
   "execution_count": 27,
   "id": "ba1129dd",
   "metadata": {},
   "outputs": [
    {
     "name": "stdout",
     "output_type": "stream",
     "text": [
      "-13.868147288381332\n"
     ]
    }
   ],
   "source": [
    "poly=PolynomialFeatures(degree=2)\n",
    "lr=LinearRegression()\n",
    "pipe=Pipeline([('POLY',poly),('LR',lr)])\n",
    "pipe.fit(X_train,y_train)\n",
    "ycap=pipe.predict(X_test)\n",
    "print(r2_score(y_test,ycap))"
   ]
  },
  {
   "cell_type": "markdown",
   "id": "d4fff17f",
   "metadata": {},
   "source": [
    "### degree 3"
   ]
  },
  {
   "cell_type": "code",
   "execution_count": 28,
   "id": "93aedb03",
   "metadata": {},
   "outputs": [
    {
     "name": "stdout",
     "output_type": "stream",
     "text": [
      "-13.313966259973263\n"
     ]
    }
   ],
   "source": [
    "poly=PolynomialFeatures(degree=3)\n",
    "lr=LinearRegression()\n",
    "pipe=Pipeline([('POLY',poly),('LR',lr)])\n",
    "pipe.fit(X_train,y_train)\n",
    "ycap=pipe.predict(X_test)\n",
    "print(r2_score(y_test,ycap))"
   ]
  },
  {
   "cell_type": "markdown",
   "id": "55d4235d",
   "metadata": {},
   "source": [
    "# MEDIAN IMPUTATION\n"
   ]
  },
  {
   "cell_type": "code",
   "execution_count": 29,
   "id": "4104734e",
   "metadata": {},
   "outputs": [
    {
     "data": {
      "text/plain": [
       "pandas.core.frame.DataFrame"
      ]
     },
     "execution_count": 29,
     "metadata": {},
     "output_type": "execute_result"
    }
   ],
   "source": [
    "imp= SimpleImputer(strategy=\"median\").set_output(transform=\"pandas\")\n",
    "imputed=imp.fit_transform(chem)\n"
   ]
  },
  {
   "cell_type": "code",
   "execution_count": 30,
   "id": "61d44faa",
   "metadata": {},
   "outputs": [],
   "source": [
    "X=imputed.drop('Yield',axis=1)\n",
    "y=imputed['Yield']"
   ]
  },
  {
   "cell_type": "code",
   "execution_count": 31,
   "id": "5002bcb5",
   "metadata": {},
   "outputs": [],
   "source": [
    "X_train,X_test,y_train,y_test=train_test_split(X,y,test_size=0.3,random_state=23)"
   ]
  },
  {
   "cell_type": "markdown",
   "id": "bbcdd881",
   "metadata": {},
   "source": [
    "### Degree 1"
   ]
  },
  {
   "cell_type": "code",
   "execution_count": 32,
   "id": "695160e1",
   "metadata": {},
   "outputs": [
    {
     "name": "stdout",
     "output_type": "stream",
     "text": [
      "0.394798259786899\n"
     ]
    }
   ],
   "source": [
    "lr=LinearRegression()\n",
    "lr.fit(X_train, y_train)\n",
    "ycap = lr.predict(X_test)\n",
    "print(r2_score(y_test, ycap))"
   ]
  },
  {
   "cell_type": "markdown",
   "id": "84066fab",
   "metadata": {},
   "source": [
    "### Degree 2"
   ]
  },
  {
   "cell_type": "code",
   "execution_count": 33,
   "id": "7bed5afb",
   "metadata": {},
   "outputs": [
    {
     "name": "stdout",
     "output_type": "stream",
     "text": [
      "-13.252078970949167\n"
     ]
    }
   ],
   "source": [
    "poly=PolynomialFeatures(degree=2)\n",
    "lr=LinearRegression()\n",
    "pipe=Pipeline([('POLY',poly),('LR',lr)])\n",
    "pipe.fit(X_train,y_train)\n",
    "ycap=pipe.predict(X_test)\n",
    "print(r2_score(y_test,ycap))"
   ]
  },
  {
   "cell_type": "markdown",
   "id": "e5d7da9e",
   "metadata": {},
   "source": [
    "### Degree 3"
   ]
  },
  {
   "cell_type": "code",
   "execution_count": 34,
   "id": "eb99173c",
   "metadata": {},
   "outputs": [
    {
     "name": "stdout",
     "output_type": "stream",
     "text": [
      "-12.218411732113113\n"
     ]
    }
   ],
   "source": [
    "poly=PolynomialFeatures(degree=3)\n",
    "lr=LinearRegression()\n",
    "pipe=Pipeline([('POLY',poly),('LR',lr)])\n",
    "pipe.fit(X_train,y_train)\n",
    "ycap=pipe.predict(X_test)\n",
    "print(r2_score(y_test,ycap))"
   ]
  },
  {
   "cell_type": "code",
   "execution_count": null,
   "id": "1c711a81",
   "metadata": {},
   "outputs": [],
   "source": []
  }
 ],
 "metadata": {
  "kernelspec": {
   "display_name": "Python 3 (ipykernel)",
   "language": "python",
   "name": "python3"
  },
  "language_info": {
   "codemirror_mode": {
    "name": "ipython",
    "version": 3
   },
   "file_extension": ".py",
   "mimetype": "text/x-python",
   "name": "python",
   "nbconvert_exporter": "python",
   "pygments_lexer": "ipython3",
   "version": "3.11.5"
  }
 },
 "nbformat": 4,
 "nbformat_minor": 5
}

{
 "cells": [
  {
   "cell_type": "code",
   "execution_count": 2,
   "id": "53fd38e9",
   "metadata": {},
   "outputs": [],
   "source": [
    "from sklearn.pipeline import Pipeline\n",
    "from sklearn.preprocessing import PolynomialFeatures\n",
    "import pandas as pd\n",
    "import os\n",
    "from sklearn.linear_model import LinearRegression\n",
    "from sklearn.metrics import mean_squared_error, r2_score\n",
    "from sklearn.model_selection import KFold,cross_val_score\n",
    "from sklearn.model_selection import train_test_split\n",
    "os.chdir('C:/Users/dbda/Desktop/ML/Datasets')\n",
    "boston = pd.read_csv('Boston.csv')"
   ]
  },
  {
   "cell_type": "code",
   "execution_count": 3,
   "id": "dd87b163",
   "metadata": {},
   "outputs": [],
   "source": [
    "X=boston.drop('medv',axis=1)\n",
    "y=boston['medv']"
   ]
  },
  {
   "cell_type": "code",
   "execution_count": 4,
   "id": "4d36df75",
   "metadata": {},
   "outputs": [],
   "source": [
    "lr=LinearRegression()\n",
    "kfold=KFold(n_splits=5,shuffle=True,random_state=23)\n",
    "results=cross_val_score(lr,X,y,cv=kfold)"
   ]
  },
  {
   "cell_type": "code",
   "execution_count": 5,
   "id": "2398ed26",
   "metadata": {},
   "outputs": [
    {
     "data": {
      "text/plain": [
       "array([0.74514306, 0.69363489, 0.73264725, 0.68377809, 0.73767041])"
      ]
     },
     "execution_count": 5,
     "metadata": {},
     "output_type": "execute_result"
    }
   ],
   "source": [
    "results"
   ]
  },
  {
   "cell_type": "code",
   "execution_count": 6,
   "id": "9705bee3",
   "metadata": {},
   "outputs": [
    {
     "data": {
      "text/plain": [
       "0.718574739923582"
      ]
     },
     "execution_count": 6,
     "metadata": {},
     "output_type": "execute_result"
    }
   ],
   "source": [
    "results.mean()"
   ]
  },
  {
   "cell_type": "code",
   "execution_count": 11,
   "id": "76649095",
   "metadata": {},
   "outputs": [
    {
     "data": {
      "text/plain": [
       "0.800046687333233"
      ]
     },
     "execution_count": 11,
     "metadata": {},
     "output_type": "execute_result"
    }
   ],
   "source": [
    "poly = PolynomialFeatures(degree = 2)\n",
    "lr = LinearRegression()\n",
    "pipe = Pipeline([('POLY', poly),('LR', lr)])\n",
    "kfold = KFold(n_splits = 5, shuffle = True, random_state = 23)\n",
    "results = cross_val_score(pipe, X,y,cv = kfold)\n",
    "results.mean()"
   ]
  },
  {
   "cell_type": "code",
   "execution_count": 14,
   "id": "69f5188b",
   "metadata": {},
   "outputs": [
    {
     "name": "stdout",
     "output_type": "stream",
     "text": [
      "{2: 0.800046687333233, 3: 0.800046687333233, 4: 0.800046687333233}\n"
     ]
    }
   ],
   "source": [
    "dgs = [2,3,4]\n",
    "scores = []\n",
    "for d in dgs:\n",
    "    lr = LinearRegression()\n",
    "    pipe = Pipeline([('POLY', poly),('LR', lr)])\n",
    "    kfold = KFold(n_splits = 5, shuffle = True, random_state = 23)\n",
    "    results = cross_val_score(pipe, X,y,cv = kfold)\n",
    "    scores.append(results.mean())\n",
    "print(dict(zip(dgs,scores)))"
   ]
  },
  {
   "cell_type": "code",
   "execution_count": null,
   "id": "39bd6668",
   "metadata": {},
   "outputs": [],
   "source": []
  }
 ],
 "metadata": {
  "kernelspec": {
   "display_name": "Python 3 (ipykernel)",
   "language": "python",
   "name": "python3"
  },
  "language_info": {
   "codemirror_mode": {
    "name": "ipython",
    "version": 3
   },
   "file_extension": ".py",
   "mimetype": "text/x-python",
   "name": "python",
   "nbconvert_exporter": "python",
   "pygments_lexer": "ipython3",
   "version": "3.11.5"
  }
 },
 "nbformat": 4,
 "nbformat_minor": 5
}

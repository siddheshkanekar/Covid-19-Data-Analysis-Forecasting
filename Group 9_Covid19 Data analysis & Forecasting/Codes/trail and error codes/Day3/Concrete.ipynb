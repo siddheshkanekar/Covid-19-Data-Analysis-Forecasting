{
 "cells": [
  {
   "cell_type": "code",
   "execution_count": 1,
   "id": "8c40beb5",
   "metadata": {},
   "outputs": [],
   "source": [
    "from sklearn.pipeline import Pipeline\n",
    "from sklearn.preprocessing import PolynomialFeatures\n",
    "import pandas as pd\n",
    "import os\n",
    "from sklearn.linear_model import LinearRegression\n",
    "from sklearn.metrics import mean_squared_error, r2_score\n",
    "from sklearn.model_selection import train_test_split\n",
    "os.chdir('C:/Users/dbda/Desktop/ML/Cases/Concrete Strength')"
   ]
  },
  {
   "cell_type": "code",
   "execution_count": 2,
   "id": "c6f63416",
   "metadata": {},
   "outputs": [],
   "source": [
    "concrete= pd.read_csv(\"Concrete_Data.csv\")\n",
    "#dum_concrete = pd.get_dummies(concrete, drop_first = True)"
   ]
  },
  {
   "cell_type": "code",
   "execution_count": 3,
   "id": "e4a6b91e",
   "metadata": {},
   "outputs": [],
   "source": [
    "train, test = train_test_split(concrete, test_size = 0.3,random_state=23)\n",
    "\n",
    "x_train = train.drop('Strength', axis = 1)\n",
    "y_train = train['Strength']\n",
    "x_test = test.drop('Strength', axis = 1)\n",
    "y_test = test['Strength']"
   ]
  },
  {
   "cell_type": "markdown",
   "id": "b40ec5e3",
   "metadata": {},
   "source": [
    "### For Degree 1"
   ]
  },
  {
   "cell_type": "code",
   "execution_count": 4,
   "id": "cc045092",
   "metadata": {},
   "outputs": [
    {
     "name": "stdout",
     "output_type": "stream",
     "text": [
      "0.6312960386440597\n"
     ]
    }
   ],
   "source": [
    "\n",
    "lr = LinearRegression()\n",
    "lr.fit(x_train, y_train)\n",
    "ycap = lr.predict(x_test)\n",
    "print(r2_score(y_test, ycap))"
   ]
  },
  {
   "cell_type": "markdown",
   "id": "d35bbcce",
   "metadata": {},
   "source": [
    "### For Degree 2"
   ]
  },
  {
   "cell_type": "code",
   "execution_count": 5,
   "id": "7f3c69b0",
   "metadata": {},
   "outputs": [
    {
     "name": "stdout",
     "output_type": "stream",
     "text": [
      "0.7855626359926299\n"
     ]
    }
   ],
   "source": [
    "from sklearn.preprocessing import PolynomialFeatures\n",
    "poly = PolynomialFeatures(degree = 2)\n",
    "x_poly_train = poly.fit_transform(x_train)\n",
    "\n",
    "\n",
    "lr.fit(x_poly_train, y_train)\n",
    "x_poly_test = poly.transform(x_test)\n",
    "ycap = lr.predict(x_poly_test)\n",
    "print(r2_score(y_test, ycap))"
   ]
  },
  {
   "cell_type": "markdown",
   "id": "dcc35268",
   "metadata": {},
   "source": [
    "### For Degree 3"
   ]
  },
  {
   "cell_type": "code",
   "execution_count": 7,
   "id": "4781442e",
   "metadata": {},
   "outputs": [
    {
     "name": "stdout",
     "output_type": "stream",
     "text": [
      "0.8368848298637356\n"
     ]
    }
   ],
   "source": [
    "from sklearn.preprocessing import PolynomialFeatures\n",
    "poly = PolynomialFeatures(degree = 3)\n",
    "x_poly_train = poly.fit_transform(x_train)\n",
    "\n",
    "\n",
    "lr.fit(x_poly_train, y_train)\n",
    "x_poly_test = poly.transform(x_test)\n",
    "ycap = lr.predict(x_poly_test)\n",
    "print(r2_score(y_test, ycap))"
   ]
  },
  {
   "cell_type": "markdown",
   "id": "0cfc9178",
   "metadata": {},
   "source": [
    "# splitting the data in one line"
   ]
  },
  {
   "cell_type": "code",
   "execution_count": 9,
   "id": "601ab319",
   "metadata": {},
   "outputs": [],
   "source": [
    "X=concrete.drop('Strength',axis=1)\n",
    "y=concrete['Strength']"
   ]
  },
  {
   "cell_type": "code",
   "execution_count": 10,
   "id": "96dbf921",
   "metadata": {},
   "outputs": [],
   "source": [
    "X_train,X_test,y_train,y_test=train_test_split(X,y,test_size=0.3,random_state=23)"
   ]
  },
  {
   "cell_type": "markdown",
   "id": "cd75bb39",
   "metadata": {},
   "source": [
    "###  4 degree in not better option"
   ]
  },
  {
   "cell_type": "code",
   "execution_count": 11,
   "id": "fcd2ef8e",
   "metadata": {},
   "outputs": [
    {
     "name": "stdout",
     "output_type": "stream",
     "text": [
      "-50.51744961773009\n"
     ]
    }
   ],
   "source": [
    "from sklearn.preprocessing import PolynomialFeatures\n",
    "poly = PolynomialFeatures(degree = 4)\n",
    "x_poly_train = poly.fit_transform(x_train)\n",
    "\n",
    "\n",
    "lr.fit(x_poly_train, y_train)\n",
    "x_poly_test = poly.transform(x_test)\n",
    "ycap = lr.predict(x_poly_test)\n",
    "print(r2_score(y_test, ycap))"
   ]
  },
  {
   "cell_type": "code",
   "execution_count": null,
   "id": "8403378d",
   "metadata": {},
   "outputs": [],
   "source": []
  }
 ],
 "metadata": {
  "kernelspec": {
   "display_name": "Python 3 (ipykernel)",
   "language": "python",
   "name": "python3"
  },
  "language_info": {
   "codemirror_mode": {
    "name": "ipython",
    "version": 3
   },
   "file_extension": ".py",
   "mimetype": "text/x-python",
   "name": "python",
   "nbconvert_exporter": "python",
   "pygments_lexer": "ipython3",
   "version": "3.11.5"
  }
 },
 "nbformat": 4,
 "nbformat_minor": 5
}
